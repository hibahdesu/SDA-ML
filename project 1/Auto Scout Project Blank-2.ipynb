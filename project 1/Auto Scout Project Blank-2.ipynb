{
 "cells": [
  {
   "cell_type": "markdown",
   "metadata": {
    "id": "4UCsvzbImqZN"
   },
   "source": [
    "___\n",
    "\n",
    "<p style=\"text-align: center;\"><img src=\"https://docs.google.com/uc?id=1lY0Uj5R04yMY3-ZppPWxqCr5pvBLYPnV\" class=\"img-fluid\" alt=\"CLRSWY\"></p>\n",
    "\n",
    "___"
   ]
  },
  {
   "cell_type": "markdown",
   "metadata": {
    "id": "i5WapR8JmqZN"
   },
   "source": [
    "# WELCOME!"
   ]
  },
  {
   "cell_type": "markdown",
   "metadata": {
    "id": "ZyeGWbuTmqZN"
   },
   "source": [
    "Welcome to \"***Car Price Prediction Project***\". This is the first medium project of ***Machine Learning*** course. In this project you will have the opportunity to apply many algorithms commonly used for regression problems.\n",
    "\n",
    "Also, you will apply various processes such as pre-processing, ***train-test spilit*** and ***cross validation*** that you will use in algorithm modeling and prediction processes in Python with ***scikit-learn***.\n",
    "\n",
    "Before diving into the project, please take a look at the determines and tasks.\n",
    "\n",
    "- **NOTE:** This project assumes that you already know the basics of coding in Python. You should also be familiar with the theory behind regression algorithms and scikit-learn module as well as Machine Learning before you begin.\n"
   ]
  },
  {
   "cell_type": "markdown",
   "metadata": {
    "id": "c0Iul5QymqZN"
   },
   "source": [
    "# #Determines\n",
    "\n",
    "**Auto Scout** data which using for this project, scraped from the on-line car trading company(https://www.autoscout24.com), contains many features of different car models. In this project, you will use the data set which is already preprocessed and prepared for algorithms .\n",
    "\n",
    "The aim of this project to understand of machine learning algorithms. Therefore, you will not need any EDA process as you will be working on the edited data.\n",
    "\n",
    "---\n",
    "\n",
    "In this Senario, you will estimate the prices of cars using regression algorithms.\n",
    "\n",
    "While starting you should import the necessary modules and load the data given as pkl file. Also you'll need to do a few pre-processing before moving to modelling. After that you will implement ***Linear Regression, Ridge Regression, Lasso Regression,and Elastic-Net algorithms respectively*** (After completion of Unsupervised Learning section, you can also add bagging and boosting algorithms such as ***Random Forest and XG Boost*** this notebook to develop the project. You can measure the success of your models with regression evaluation metrics as well as with cross validation method.\n",
    "\n",
    "For the better results, you should try to increase the success of your models by performing hyperparameter tuning. Determine feature importances for the model. You can set your model with the most important features for resource saving. You should try to apply this especially in Random Forest and XG Boost algorithms. Unlike the others, you will perform hyperparameter tuning for Random Forest and XG Boost using the ***GridSearchCV*** method.\n",
    "\n",
    "Finally You can compare the performances of algorithms, work more on the algorithm have the most successful prediction rate.\n",
    "\n",
    "\n",
    "\n",
    "\n"
   ]
  },
  {
   "cell_type": "markdown",
   "metadata": {
    "id": "pL-jJ1irmqZN"
   },
   "source": [
    "# #Tasks\n",
    "\n",
    "#### 1. Import Modules, Load Data and Data Review\n",
    "#### 2. Data Pre-Processing\n",
    "#### 3. Implement Linear Regression\n",
    "#### 4. Implement Ridge Regression\n",
    "#### 5. Implement Lasso Regression\n",
    "#### 6. Implement Elastic-Net\n",
    "#### 7. Visually Compare Models Performance In a Graph"
   ]
  },
  {
   "cell_type": "markdown",
   "metadata": {
    "id": "Rik6d_vimqZN"
   },
   "source": [
    "## 1. Import Modules, Load Data and Data Review"
   ]
  },
  {
   "cell_type": "code",
   "execution_count": 52,
   "metadata": {
    "id": "QBddHlqgmqZN"
   },
   "outputs": [],
   "source": [
    "import numpy as np\n",
    "import pandas as pd\n",
    "import matplotlib.pyplot as plt\n",
    "import seaborn as sns\n",
    "%matplotlib inline\n",
    "\n",
    "plt.rcParams[\"figure.figsize\"] = (10,6)\n",
    "pd.set_option('display.max_columns', 100)"
   ]
  },
  {
   "cell_type": "code",
   "execution_count": 53,
   "metadata": {},
   "outputs": [],
   "source": [
    "df = pd.read_csv(\"Ready_to_ML.csv\")"
   ]
  },
  {
   "cell_type": "code",
   "execution_count": 54,
   "metadata": {},
   "outputs": [
    {
     "data": {
      "text/html": [
       "<div>\n",
       "<style scoped>\n",
       "    .dataframe tbody tr th:only-of-type {\n",
       "        vertical-align: middle;\n",
       "    }\n",
       "\n",
       "    .dataframe tbody tr th {\n",
       "        vertical-align: top;\n",
       "    }\n",
       "\n",
       "    .dataframe thead th {\n",
       "        text-align: right;\n",
       "    }\n",
       "</style>\n",
       "<table border=\"1\" class=\"dataframe\">\n",
       "  <thead>\n",
       "    <tr style=\"text-align: right;\">\n",
       "      <th></th>\n",
       "      <th>make_model</th>\n",
       "      <th>make</th>\n",
       "      <th>location</th>\n",
       "      <th>price</th>\n",
       "      <th>body_type</th>\n",
       "      <th>type</th>\n",
       "      <th>warranty</th>\n",
       "      <th>mileage</th>\n",
       "      <th>gearbox</th>\n",
       "      <th>fuel_type</th>\n",
       "      <th>seller</th>\n",
       "      <th>engine_size</th>\n",
       "      <th>gears</th>\n",
       "      <th>co_emissions</th>\n",
       "      <th>drivetrain</th>\n",
       "      <th>extras</th>\n",
       "      <th>empty_weight</th>\n",
       "      <th>full_service_history</th>\n",
       "      <th>upholstery</th>\n",
       "      <th>previous_owner</th>\n",
       "      <th>energy_efficiency_class</th>\n",
       "      <th>age</th>\n",
       "      <th>power_kW</th>\n",
       "      <th>cons_avg</th>\n",
       "      <th>comfort_&amp;_convenience_Package</th>\n",
       "      <th>entertainment_&amp;_media_Package</th>\n",
       "      <th>safety_&amp;_security_Package</th>\n",
       "    </tr>\n",
       "  </thead>\n",
       "  <tbody>\n",
       "    <tr>\n",
       "      <th>0</th>\n",
       "      <td>Mercedes-Benz A 160</td>\n",
       "      <td>Mercedes-Benz</td>\n",
       "      <td>P.I. EL PALMAR C/FORJA 6,  11500 PUERTO DE SAN...</td>\n",
       "      <td>16950.0</td>\n",
       "      <td>Compact</td>\n",
       "      <td>Used</td>\n",
       "      <td>Yes</td>\n",
       "      <td>120200.0</td>\n",
       "      <td>Manual</td>\n",
       "      <td>Diesel</td>\n",
       "      <td>Dealer</td>\n",
       "      <td>1595.0</td>\n",
       "      <td>5.0</td>\n",
       "      <td>98.0</td>\n",
       "      <td>Front</td>\n",
       "      <td>Alloy wheels</td>\n",
       "      <td>1270.0</td>\n",
       "      <td>No</td>\n",
       "      <td>Cloth</td>\n",
       "      <td>2.0</td>\n",
       "      <td>efficient</td>\n",
       "      <td>6.0</td>\n",
       "      <td>75.0</td>\n",
       "      <td>3.800</td>\n",
       "      <td>Standard</td>\n",
       "      <td>Standard</td>\n",
       "      <td>Safety Premium Package</td>\n",
       "    </tr>\n",
       "    <tr>\n",
       "      <th>1</th>\n",
       "      <td>Mercedes-Benz EQE 350</td>\n",
       "      <td>Mercedes-Benz</td>\n",
       "      <td>APARTADO DE CORREOS 1032,  26140 LOGROÑO, ES</td>\n",
       "      <td>80900.0</td>\n",
       "      <td>Compact</td>\n",
       "      <td>Pre-registered</td>\n",
       "      <td>Yes</td>\n",
       "      <td>5000.0</td>\n",
       "      <td>Automatic</td>\n",
       "      <td>Electric</td>\n",
       "      <td>Dealer</td>\n",
       "      <td>1.0</td>\n",
       "      <td>1.0</td>\n",
       "      <td>0.0</td>\n",
       "      <td>4WD</td>\n",
       "      <td>Alloy wheels (21\"), Shift paddles, Sport packa...</td>\n",
       "      <td>2355.0</td>\n",
       "      <td>No</td>\n",
       "      <td>Part/Full Leather</td>\n",
       "      <td>1.0</td>\n",
       "      <td>efficient</td>\n",
       "      <td>0.0</td>\n",
       "      <td>215.0</td>\n",
       "      <td>2.359</td>\n",
       "      <td>Premium</td>\n",
       "      <td>Plus</td>\n",
       "      <td>Safety Premium Package</td>\n",
       "    </tr>\n",
       "    <tr>\n",
       "      <th>2</th>\n",
       "      <td>Mercedes-Benz A 45 AMG</td>\n",
       "      <td>Mercedes-Benz</td>\n",
       "      <td>PORT. TARRACO, MOLL DE LLEVANT, Nº 5, LOC. 6-8...</td>\n",
       "      <td>69900.0</td>\n",
       "      <td>Compact</td>\n",
       "      <td>Used</td>\n",
       "      <td>Yes</td>\n",
       "      <td>18900.0</td>\n",
       "      <td>Automatic</td>\n",
       "      <td>Benzine</td>\n",
       "      <td>Dealer</td>\n",
       "      <td>1991.0</td>\n",
       "      <td>8.0</td>\n",
       "      <td>162.0</td>\n",
       "      <td>4WD</td>\n",
       "      <td>Alloy wheels</td>\n",
       "      <td>1555.0</td>\n",
       "      <td>No</td>\n",
       "      <td>Part/Full Leather</td>\n",
       "      <td>2.0</td>\n",
       "      <td>unefficient</td>\n",
       "      <td>2.0</td>\n",
       "      <td>310.0</td>\n",
       "      <td>8.400</td>\n",
       "      <td>Standard</td>\n",
       "      <td>Standard</td>\n",
       "      <td>Safety Premium Plus Package</td>\n",
       "    </tr>\n",
       "    <tr>\n",
       "      <th>3</th>\n",
       "      <td>Mercedes-Benz A 35 AMG</td>\n",
       "      <td>Mercedes-Benz</td>\n",
       "      <td>Carrer de Provença, 31 Local,  8029 BARCELONA, ES</td>\n",
       "      <td>46990.0</td>\n",
       "      <td>Compact</td>\n",
       "      <td>Used</td>\n",
       "      <td>Yes</td>\n",
       "      <td>18995.0</td>\n",
       "      <td>Automatic</td>\n",
       "      <td>Benzine</td>\n",
       "      <td>Dealer</td>\n",
       "      <td>1991.0</td>\n",
       "      <td>7.0</td>\n",
       "      <td>169.0</td>\n",
       "      <td>4WD</td>\n",
       "      <td>Sport seats</td>\n",
       "      <td>1455.0</td>\n",
       "      <td>No</td>\n",
       "      <td>Part/Full Leather</td>\n",
       "      <td>2.0</td>\n",
       "      <td>unefficient</td>\n",
       "      <td>2.0</td>\n",
       "      <td>225.0</td>\n",
       "      <td>7.300</td>\n",
       "      <td>Standard</td>\n",
       "      <td>Standard</td>\n",
       "      <td>Safety Premium Package</td>\n",
       "    </tr>\n",
       "    <tr>\n",
       "      <th>4</th>\n",
       "      <td>Mercedes-Benz A 45 AMG</td>\n",
       "      <td>Mercedes-Benz</td>\n",
       "      <td>CARRIL ARAGONES 4,  30007 CASILLAS, ES</td>\n",
       "      <td>16800.0</td>\n",
       "      <td>Compact</td>\n",
       "      <td>Used</td>\n",
       "      <td>Yes</td>\n",
       "      <td>197000.0</td>\n",
       "      <td>Automatic</td>\n",
       "      <td>Diesel</td>\n",
       "      <td>Dealer</td>\n",
       "      <td>2143.0</td>\n",
       "      <td>7.0</td>\n",
       "      <td>162.0</td>\n",
       "      <td>4WD</td>\n",
       "      <td>Alloy wheels</td>\n",
       "      <td>1545.0</td>\n",
       "      <td>No</td>\n",
       "      <td>Part/Full Leather</td>\n",
       "      <td>2.0</td>\n",
       "      <td>unefficient</td>\n",
       "      <td>7.0</td>\n",
       "      <td>100.0</td>\n",
       "      <td>4.900</td>\n",
       "      <td>Standard</td>\n",
       "      <td>Standard</td>\n",
       "      <td>Safety Premium Plus Package</td>\n",
       "    </tr>\n",
       "  </tbody>\n",
       "</table>\n",
       "</div>"
      ],
      "text/plain": [
       "               make_model           make  \\\n",
       "0     Mercedes-Benz A 160  Mercedes-Benz   \n",
       "1   Mercedes-Benz EQE 350  Mercedes-Benz   \n",
       "2  Mercedes-Benz A 45 AMG  Mercedes-Benz   \n",
       "3  Mercedes-Benz A 35 AMG  Mercedes-Benz   \n",
       "4  Mercedes-Benz A 45 AMG  Mercedes-Benz   \n",
       "\n",
       "                                            location    price body_type  \\\n",
       "0  P.I. EL PALMAR C/FORJA 6,  11500 PUERTO DE SAN...  16950.0   Compact   \n",
       "1       APARTADO DE CORREOS 1032,  26140 LOGROÑO, ES  80900.0   Compact   \n",
       "2  PORT. TARRACO, MOLL DE LLEVANT, Nº 5, LOC. 6-8...  69900.0   Compact   \n",
       "3  Carrer de Provença, 31 Local,  8029 BARCELONA, ES  46990.0   Compact   \n",
       "4             CARRIL ARAGONES 4,  30007 CASILLAS, ES  16800.0   Compact   \n",
       "\n",
       "             type warranty   mileage    gearbox fuel_type  seller  \\\n",
       "0            Used      Yes  120200.0     Manual    Diesel  Dealer   \n",
       "1  Pre-registered      Yes    5000.0  Automatic  Electric  Dealer   \n",
       "2            Used      Yes   18900.0  Automatic   Benzine  Dealer   \n",
       "3            Used      Yes   18995.0  Automatic   Benzine  Dealer   \n",
       "4            Used      Yes  197000.0  Automatic    Diesel  Dealer   \n",
       "\n",
       "   engine_size  gears  co_emissions drivetrain  \\\n",
       "0       1595.0    5.0          98.0      Front   \n",
       "1          1.0    1.0           0.0        4WD   \n",
       "2       1991.0    8.0         162.0        4WD   \n",
       "3       1991.0    7.0         169.0        4WD   \n",
       "4       2143.0    7.0         162.0        4WD   \n",
       "\n",
       "                                              extras  empty_weight  \\\n",
       "0                                       Alloy wheels        1270.0   \n",
       "1  Alloy wheels (21\"), Shift paddles, Sport packa...        2355.0   \n",
       "2                                       Alloy wheels        1555.0   \n",
       "3                                        Sport seats        1455.0   \n",
       "4                                       Alloy wheels        1545.0   \n",
       "\n",
       "  full_service_history         upholstery  previous_owner  \\\n",
       "0                   No              Cloth             2.0   \n",
       "1                   No  Part/Full Leather             1.0   \n",
       "2                   No  Part/Full Leather             2.0   \n",
       "3                   No  Part/Full Leather             2.0   \n",
       "4                   No  Part/Full Leather             2.0   \n",
       "\n",
       "  energy_efficiency_class  age  power_kW  cons_avg  \\\n",
       "0               efficient  6.0      75.0     3.800   \n",
       "1               efficient  0.0     215.0     2.359   \n",
       "2             unefficient  2.0     310.0     8.400   \n",
       "3             unefficient  2.0     225.0     7.300   \n",
       "4             unefficient  7.0     100.0     4.900   \n",
       "\n",
       "  comfort_&_convenience_Package entertainment_&_media_Package  \\\n",
       "0                      Standard                      Standard   \n",
       "1                       Premium                          Plus   \n",
       "2                      Standard                      Standard   \n",
       "3                      Standard                      Standard   \n",
       "4                      Standard                      Standard   \n",
       "\n",
       "     safety_&_security_Package  \n",
       "0       Safety Premium Package  \n",
       "1       Safety Premium Package  \n",
       "2  Safety Premium Plus Package  \n",
       "3       Safety Premium Package  \n",
       "4  Safety Premium Plus Package  "
      ]
     },
     "execution_count": 54,
     "metadata": {},
     "output_type": "execute_result"
    }
   ],
   "source": [
    "df.head()"
   ]
  },
  {
   "cell_type": "code",
   "execution_count": 55,
   "metadata": {},
   "outputs": [
    {
     "data": {
      "text/html": [
       "<div>\n",
       "<style scoped>\n",
       "    .dataframe tbody tr th:only-of-type {\n",
       "        vertical-align: middle;\n",
       "    }\n",
       "\n",
       "    .dataframe tbody tr th {\n",
       "        vertical-align: top;\n",
       "    }\n",
       "\n",
       "    .dataframe thead th {\n",
       "        text-align: right;\n",
       "    }\n",
       "</style>\n",
       "<table border=\"1\" class=\"dataframe\">\n",
       "  <thead>\n",
       "    <tr style=\"text-align: right;\">\n",
       "      <th></th>\n",
       "      <th>type</th>\n",
       "    </tr>\n",
       "  </thead>\n",
       "  <tbody>\n",
       "    <tr>\n",
       "      <th>Used</th>\n",
       "      <td>23367</td>\n",
       "    </tr>\n",
       "    <tr>\n",
       "      <th>Demonstration</th>\n",
       "      <td>1405</td>\n",
       "    </tr>\n",
       "    <tr>\n",
       "      <th>Pre-registered</th>\n",
       "      <td>1370</td>\n",
       "    </tr>\n",
       "    <tr>\n",
       "      <th>Employee's car</th>\n",
       "      <td>569</td>\n",
       "    </tr>\n",
       "  </tbody>\n",
       "</table>\n",
       "</div>"
      ],
      "text/plain": [
       "                 type\n",
       "Used            23367\n",
       "Demonstration    1405\n",
       "Pre-registered   1370\n",
       "Employee's car    569"
      ]
     },
     "execution_count": 55,
     "metadata": {},
     "output_type": "execute_result"
    }
   ],
   "source": [
    "pd.DataFrame(df['type'].value_counts())"
   ]
  },
  {
   "cell_type": "code",
   "execution_count": 56,
   "metadata": {},
   "outputs": [
    {
     "data": {
      "text/plain": [
       "Index(['make_model', 'make', 'location', 'price', 'body_type', 'type',\n",
       "       'warranty', 'mileage', 'gearbox', 'fuel_type', 'seller', 'engine_size',\n",
       "       'gears', 'co_emissions', 'drivetrain', 'extras', 'empty_weight',\n",
       "       'full_service_history', 'upholstery', 'previous_owner',\n",
       "       'energy_efficiency_class', 'age', 'power_kW', 'cons_avg',\n",
       "       'comfort_&_convenience_Package', 'entertainment_&_media_Package',\n",
       "       'safety_&_security_Package'],\n",
       "      dtype='object')"
      ]
     },
     "execution_count": 56,
     "metadata": {},
     "output_type": "execute_result"
    }
   ],
   "source": [
    "df.columns"
   ]
  },
  {
   "cell_type": "code",
   "execution_count": 57,
   "metadata": {},
   "outputs": [
    {
     "data": {
      "text/html": [
       "<div>\n",
       "<style scoped>\n",
       "    .dataframe tbody tr th:only-of-type {\n",
       "        vertical-align: middle;\n",
       "    }\n",
       "\n",
       "    .dataframe tbody tr th {\n",
       "        vertical-align: top;\n",
       "    }\n",
       "\n",
       "    .dataframe thead th {\n",
       "        text-align: right;\n",
       "    }\n",
       "</style>\n",
       "<table border=\"1\" class=\"dataframe\">\n",
       "  <thead>\n",
       "    <tr style=\"text-align: right;\">\n",
       "      <th></th>\n",
       "      <th>body_type</th>\n",
       "    </tr>\n",
       "  </thead>\n",
       "  <tbody>\n",
       "    <tr>\n",
       "      <th>Station wagon</th>\n",
       "      <td>5391</td>\n",
       "    </tr>\n",
       "    <tr>\n",
       "      <th>Off-Road/Pick-up</th>\n",
       "      <td>5357</td>\n",
       "    </tr>\n",
       "    <tr>\n",
       "      <th>Compact</th>\n",
       "      <td>5303</td>\n",
       "    </tr>\n",
       "    <tr>\n",
       "      <th>Sedan</th>\n",
       "      <td>4947</td>\n",
       "    </tr>\n",
       "    <tr>\n",
       "      <th>Coupe</th>\n",
       "      <td>2942</td>\n",
       "    </tr>\n",
       "    <tr>\n",
       "      <th>Convertible</th>\n",
       "      <td>2771</td>\n",
       "    </tr>\n",
       "  </tbody>\n",
       "</table>\n",
       "</div>"
      ],
      "text/plain": [
       "                  body_type\n",
       "Station wagon          5391\n",
       "Off-Road/Pick-up       5357\n",
       "Compact                5303\n",
       "Sedan                  4947\n",
       "Coupe                  2942\n",
       "Convertible            2771"
      ]
     },
     "execution_count": 57,
     "metadata": {},
     "output_type": "execute_result"
    }
   ],
   "source": [
    "pd.DataFrame(df['body_type'].value_counts())"
   ]
  },
  {
   "cell_type": "code",
   "execution_count": 58,
   "metadata": {},
   "outputs": [
    {
     "data": {
      "text/html": [
       "<div>\n",
       "<style scoped>\n",
       "    .dataframe tbody tr th:only-of-type {\n",
       "        vertical-align: middle;\n",
       "    }\n",
       "\n",
       "    .dataframe tbody tr th {\n",
       "        vertical-align: top;\n",
       "    }\n",
       "\n",
       "    .dataframe thead th {\n",
       "        text-align: right;\n",
       "    }\n",
       "</style>\n",
       "<table border=\"1\" class=\"dataframe\">\n",
       "  <thead>\n",
       "    <tr style=\"text-align: right;\">\n",
       "      <th></th>\n",
       "      <th>make_model</th>\n",
       "    </tr>\n",
       "  </thead>\n",
       "  <tbody>\n",
       "    <tr>\n",
       "      <th>Renault Megane</th>\n",
       "      <td>832</td>\n",
       "    </tr>\n",
       "    <tr>\n",
       "      <th>SEAT Leon</th>\n",
       "      <td>784</td>\n",
       "    </tr>\n",
       "    <tr>\n",
       "      <th>Volvo V40</th>\n",
       "      <td>740</td>\n",
       "    </tr>\n",
       "    <tr>\n",
       "      <th>Dacia Sandero</th>\n",
       "      <td>730</td>\n",
       "    </tr>\n",
       "    <tr>\n",
       "      <th>Hyundai i30</th>\n",
       "      <td>706</td>\n",
       "    </tr>\n",
       "    <tr>\n",
       "      <th>...</th>\n",
       "      <td>...</td>\n",
       "    </tr>\n",
       "    <tr>\n",
       "      <th>Toyota Prius+</th>\n",
       "      <td>1</td>\n",
       "    </tr>\n",
       "    <tr>\n",
       "      <th>Peugeot iOn</th>\n",
       "      <td>1</td>\n",
       "    </tr>\n",
       "    <tr>\n",
       "      <th>Peugeot 106</th>\n",
       "      <td>1</td>\n",
       "    </tr>\n",
       "    <tr>\n",
       "      <th>Mercedes-Benz SLR</th>\n",
       "      <td>1</td>\n",
       "    </tr>\n",
       "    <tr>\n",
       "      <th>Renault R 11</th>\n",
       "      <td>1</td>\n",
       "    </tr>\n",
       "  </tbody>\n",
       "</table>\n",
       "<p>490 rows × 1 columns</p>\n",
       "</div>"
      ],
      "text/plain": [
       "                   make_model\n",
       "Renault Megane            832\n",
       "SEAT Leon                 784\n",
       "Volvo V40                 740\n",
       "Dacia Sandero             730\n",
       "Hyundai i30               706\n",
       "...                       ...\n",
       "Toyota Prius+               1\n",
       "Peugeot iOn                 1\n",
       "Peugeot 106                 1\n",
       "Mercedes-Benz SLR           1\n",
       "Renault R 11                1\n",
       "\n",
       "[490 rows x 1 columns]"
      ]
     },
     "execution_count": 58,
     "metadata": {},
     "output_type": "execute_result"
    }
   ],
   "source": [
    "pd.DataFrame(df['make_model'].value_counts())"
   ]
  },
  {
   "cell_type": "code",
   "execution_count": 59,
   "metadata": {},
   "outputs": [
    {
     "name": "stdout",
     "output_type": "stream",
     "text": [
      "Column 'make_model':\n",
      "Renault Megane       832\n",
      "SEAT Leon            784\n",
      "Volvo V40            740\n",
      "Dacia Sandero        730\n",
      "Hyundai i30          706\n",
      "                    ... \n",
      "Toyota Prius+          1\n",
      "Peugeot iOn            1\n",
      "Peugeot 106            1\n",
      "Mercedes-Benz SLR      1\n",
      "Renault R 11           1\n",
      "Name: make_model, Length: 490, dtype: int64\n",
      "\n",
      "Column 'make':\n",
      "Volvo            3343\n",
      "Mercedes-Benz    2288\n",
      "Peugeot          2255\n",
      "Renault          2229\n",
      "Ford             2164\n",
      "Opel             2107\n",
      "Fiat             2010\n",
      "Nissan           1914\n",
      "Hyundai          1834\n",
      "Toyota           1753\n",
      "SEAT             1725\n",
      "Skoda            1557\n",
      "Dacia            1532\n",
      "Name: make, dtype: int64\n",
      "\n",
      "Column 'location':\n",
      "Av. Laboral, 10,  28021 MADRID, ES                            306\n",
      "Luckenwalder Berg 5,  14913 Jüterbog, DE                      170\n",
      "Ctra. del Mig, 96,,  08097 L'Hospitalet de Llobregat, ES      143\n",
      "9 boulevard Jules Ferry,  75011 Paris, FR                     136\n",
      "Neuenhofstr. 77,  52078 Aachen, DE                            135\n",
      "                                                             ... \n",
      "Via appia km 633,  74016 Massafra - Taranto, IT                 1\n",
      "AVDA VELAZQUEZ 83,  29004 malaga, ES                            1\n",
      "14 Rue Du Garat,  42152 L'horme, FR                             1\n",
      "Via vercelli 61/8,  13030 Caresanablot - Vercelli - Vc, IT      1\n",
      "Sur rendez-vous,  5060 Sambreville, BE                          1\n",
      "Name: location, Length: 7178, dtype: int64\n",
      "\n",
      "Column 'price':\n",
      "14990.0    215\n",
      "12990.0    212\n",
      "16990.0    183\n",
      "19990.0    161\n",
      "11990.0    152\n",
      "          ... \n",
      "10870.0      1\n",
      "20220.0      1\n",
      "21498.0      1\n",
      "25489.0      1\n",
      "4440.0       1\n",
      "Name: price, Length: 4890, dtype: int64\n",
      "\n",
      "Column 'body_type':\n",
      "Station wagon       5391\n",
      "Off-Road/Pick-up    5357\n",
      "Compact             5303\n",
      "Sedan               4947\n",
      "Coupe               2942\n",
      "Convertible         2771\n",
      "Name: body_type, dtype: int64\n",
      "\n",
      "Column 'type':\n",
      "Used              23367\n",
      "Demonstration      1405\n",
      "Pre-registered     1370\n",
      "Employee's car      569\n",
      "Name: type, dtype: int64\n",
      "\n",
      "Column 'warranty':\n",
      "No     13480\n",
      "Yes    13231\n",
      "Name: warranty, dtype: int64\n",
      "\n",
      "Column 'mileage':\n",
      "10.0        580\n",
      "1.0         161\n",
      "50.0        133\n",
      "100.0       115\n",
      "5.0         114\n",
      "           ... \n",
      "41484.0       1\n",
      "40687.0       1\n",
      "92117.0       1\n",
      "70617.0       1\n",
      "230047.0      1\n",
      "Name: mileage, Length: 13534, dtype: int64\n",
      "\n",
      "Column 'gearbox':\n",
      "Manual            15669\n",
      "Automatic         10979\n",
      "Semi-automatic       63\n",
      "Name: gearbox, dtype: int64\n",
      "\n",
      "Column 'fuel_type':\n",
      "Benzine               16862\n",
      "Diesel                 9046\n",
      "Electric                437\n",
      "Liquid/Natural Gas      366\n",
      "Name: fuel_type, dtype: int64\n",
      "\n",
      "Column 'seller':\n",
      "Dealer            25103\n",
      "Private seller     1608\n",
      "Name: seller, dtype: int64\n",
      "\n",
      "Column 'engine_size':\n",
      "1598.0    2205\n",
      "999.0     2137\n",
      "1969.0    1967\n",
      "1461.0    1143\n",
      "998.0      942\n",
      "          ... \n",
      "2959.0       1\n",
      "3595.0       1\n",
      "1489.0       1\n",
      "5812.0       1\n",
      "3192.0       1\n",
      "Name: engine_size, Length: 282, dtype: int64\n",
      "\n",
      "Column 'gears':\n",
      "6.0    12719\n",
      "5.0     6658\n",
      "7.0     3136\n",
      "8.0     2775\n",
      "1.0     1328\n",
      "4.0       92\n",
      "3.0        3\n",
      "Name: gears, dtype: int64\n",
      "\n",
      "Column 'co_emissions':\n",
      "0.0      1271\n",
      "115.0     676\n",
      "124.0     589\n",
      "99.0      585\n",
      "119.0     565\n",
      "         ... \n",
      "70.0        1\n",
      "75.5        1\n",
      "342.0       1\n",
      "398.0       1\n",
      "53.0        1\n",
      "Name: co_emissions, Length: 371, dtype: int64\n",
      "\n",
      "Column 'drivetrain':\n",
      "Front    20415\n",
      "4WD       4198\n",
      "Rear      2098\n",
      "Name: drivetrain, dtype: int64\n",
      "\n",
      "Column 'extras':\n",
      "Alloy wheels                                                                                                                                                                                   5797\n",
      "Roof rack                                                                                                                                                                                       479\n",
      "Alloy wheels, Sport seats                                                                                                                                                                       424\n",
      "Alloy wheels, Roof rack                                                                                                                                                                         383\n",
      "Alloy wheels, Touch screen                                                                                                                                                                      268\n",
      "                                                                                                                                                                                               ... \n",
      "Alloy wheels (18\"), Automatically dimming interior mirror, Emergency tyre, Headlight washer system, Shift paddles, Spare tyre, Sport package, Sport seats, Sport suspension, Winter package       1\n",
      "Alloy wheels, Emergency tyre repair kit, Headlight washer system                                                                                                                                  1\n",
      "Alloy wheels (18\"), Automatically dimming interior mirror, Catalytic Converter, E10-enabled, Headlight washer system, Ski bag, Summer tyres                                                       1\n",
      "Alloy wheels, Automatically dimming interior mirror, Catalytic Converter, Sport seats                                                                                                             1\n",
      "Alloy wheels, Automatically dimming interior mirror, Ski bag, Trailer hitch                                                                                                                       1\n",
      "Name: extras, Length: 9021, dtype: int64\n",
      "\n",
      "Column 'empty_weight':\n",
      "1320.0    652\n",
      "1280.0    504\n",
      "1055.0    457\n",
      "1395.0    407\n",
      "1165.0    389\n",
      "         ... \n",
      "2555.0      1\n",
      "2477.0      1\n",
      "2318.0      1\n",
      "2152.0      1\n",
      "1391.0      1\n",
      "Name: empty_weight, Length: 1191, dtype: int64\n",
      "\n",
      "Column 'full_service_history':\n",
      "No     14628\n",
      "Yes    12083\n",
      "Name: full_service_history, dtype: int64\n",
      "\n",
      "Column 'upholstery':\n",
      "Cloth                14219\n",
      "Part/Full Leather    12492\n",
      "Name: upholstery, dtype: int64\n",
      "\n",
      "Column 'previous_owner':\n",
      "1.0    18006\n",
      "2.0     6544\n",
      "3.0     1453\n",
      "4.0      363\n",
      "5.0      170\n",
      "6.0       67\n",
      "8.0       51\n",
      "7.0       39\n",
      "9.0       18\n",
      "Name: previous_owner, dtype: int64\n",
      "\n",
      "Column 'energy_efficiency_class':\n",
      "efficient      17154\n",
      "unefficient     9557\n",
      "Name: energy_efficiency_class, dtype: int64\n",
      "\n",
      "Column 'age':\n",
      "3.0     3657\n",
      "4.0     3478\n",
      "0.0     3053\n",
      "1.0     2853\n",
      "2.0     2468\n",
      "5.0     2403\n",
      "6.0     1462\n",
      "7.0     1202\n",
      "8.0      912\n",
      "9.0      702\n",
      "10.0     652\n",
      "11.0     639\n",
      "12.0     556\n",
      "15.0     489\n",
      "14.0     440\n",
      "13.0     423\n",
      "16.0     395\n",
      "17.0     286\n",
      "18.0     246\n",
      "19.0     211\n",
      "20.0     184\n",
      "Name: age, dtype: int64\n",
      "\n",
      "Column 'power_kW':\n",
      "110.0    2005\n",
      "96.0     1368\n",
      "88.0     1182\n",
      "81.0     1155\n",
      "66.0     1092\n",
      "         ... \n",
      "126.5       2\n",
      "230.0       1\n",
      "440.0       1\n",
      "98.5        1\n",
      "212.5       1\n",
      "Name: power_kW, Length: 184, dtype: int64\n",
      "\n",
      "Column 'cons_avg':\n",
      "4.90     1040\n",
      "5.00      962\n",
      "5.10      877\n",
      "4.50      865\n",
      "4.70      709\n",
      "         ... \n",
      "16.00       1\n",
      "7.80        1\n",
      "5.55        1\n",
      "4.25        1\n",
      "14.20       1\n",
      "Name: cons_avg, Length: 204, dtype: int64\n",
      "\n",
      "Column 'comfort_&_convenience_Package':\n",
      "Standard        17875\n",
      "Premium          8744\n",
      "Premium Plus       92\n",
      "Name: comfort_&_convenience_Package, dtype: int64\n",
      "\n",
      "Column 'entertainment_&_media_Package':\n",
      "Standard    16066\n",
      "Plus        10645\n",
      "Name: entertainment_&_media_Package, dtype: int64\n",
      "\n",
      "Column 'safety_&_security_Package':\n",
      "Safety Premium Package         20797\n",
      "Safety Standard Package         3605\n",
      "Safety Premium Plus Package     2309\n",
      "Name: safety_&_security_Package, dtype: int64\n",
      "\n"
     ]
    }
   ],
   "source": [
    "for column in df.columns:\n",
    "    # Use value_counts() to count the occurrences of each element in the column\n",
    "    column_counts = df[column].value_counts()\n",
    "    \n",
    "    # Print the column name and its count\n",
    "    print(f\"Column '{column}':\")\n",
    "    print(column_counts)\n",
    "    print()"
   ]
  },
  {
   "cell_type": "code",
   "execution_count": 60,
   "metadata": {},
   "outputs": [
    {
     "data": {
      "text/html": [
       "<div>\n",
       "<style scoped>\n",
       "    .dataframe tbody tr th:only-of-type {\n",
       "        vertical-align: middle;\n",
       "    }\n",
       "\n",
       "    .dataframe tbody tr th {\n",
       "        vertical-align: top;\n",
       "    }\n",
       "\n",
       "    .dataframe thead th {\n",
       "        text-align: right;\n",
       "    }\n",
       "</style>\n",
       "<table border=\"1\" class=\"dataframe\">\n",
       "  <thead>\n",
       "    <tr style=\"text-align: right;\">\n",
       "      <th></th>\n",
       "      <th>make_model</th>\n",
       "      <th>make</th>\n",
       "      <th>location</th>\n",
       "      <th>body_type</th>\n",
       "      <th>type</th>\n",
       "      <th>warranty</th>\n",
       "      <th>gearbox</th>\n",
       "      <th>fuel_type</th>\n",
       "      <th>seller</th>\n",
       "      <th>drivetrain</th>\n",
       "      <th>extras</th>\n",
       "      <th>full_service_history</th>\n",
       "      <th>upholstery</th>\n",
       "      <th>energy_efficiency_class</th>\n",
       "      <th>comfort_&amp;_convenience_Package</th>\n",
       "      <th>entertainment_&amp;_media_Package</th>\n",
       "      <th>safety_&amp;_security_Package</th>\n",
       "    </tr>\n",
       "  </thead>\n",
       "  <tbody>\n",
       "    <tr>\n",
       "      <th>count</th>\n",
       "      <td>26711</td>\n",
       "      <td>26711</td>\n",
       "      <td>26711</td>\n",
       "      <td>26711</td>\n",
       "      <td>26711</td>\n",
       "      <td>26711</td>\n",
       "      <td>26711</td>\n",
       "      <td>26711</td>\n",
       "      <td>26711</td>\n",
       "      <td>26711</td>\n",
       "      <td>26711</td>\n",
       "      <td>26711</td>\n",
       "      <td>26711</td>\n",
       "      <td>26711</td>\n",
       "      <td>26711</td>\n",
       "      <td>26711</td>\n",
       "      <td>26711</td>\n",
       "    </tr>\n",
       "    <tr>\n",
       "      <th>unique</th>\n",
       "      <td>490</td>\n",
       "      <td>13</td>\n",
       "      <td>7178</td>\n",
       "      <td>6</td>\n",
       "      <td>4</td>\n",
       "      <td>2</td>\n",
       "      <td>3</td>\n",
       "      <td>4</td>\n",
       "      <td>2</td>\n",
       "      <td>3</td>\n",
       "      <td>9021</td>\n",
       "      <td>2</td>\n",
       "      <td>2</td>\n",
       "      <td>2</td>\n",
       "      <td>3</td>\n",
       "      <td>2</td>\n",
       "      <td>3</td>\n",
       "    </tr>\n",
       "    <tr>\n",
       "      <th>top</th>\n",
       "      <td>Renault Megane</td>\n",
       "      <td>Volvo</td>\n",
       "      <td>Av. Laboral, 10,  28021 MADRID, ES</td>\n",
       "      <td>Station wagon</td>\n",
       "      <td>Used</td>\n",
       "      <td>No</td>\n",
       "      <td>Manual</td>\n",
       "      <td>Benzine</td>\n",
       "      <td>Dealer</td>\n",
       "      <td>Front</td>\n",
       "      <td>Alloy wheels</td>\n",
       "      <td>No</td>\n",
       "      <td>Cloth</td>\n",
       "      <td>efficient</td>\n",
       "      <td>Standard</td>\n",
       "      <td>Standard</td>\n",
       "      <td>Safety Premium Package</td>\n",
       "    </tr>\n",
       "    <tr>\n",
       "      <th>freq</th>\n",
       "      <td>832</td>\n",
       "      <td>3343</td>\n",
       "      <td>306</td>\n",
       "      <td>5391</td>\n",
       "      <td>23367</td>\n",
       "      <td>13480</td>\n",
       "      <td>15669</td>\n",
       "      <td>16862</td>\n",
       "      <td>25103</td>\n",
       "      <td>20415</td>\n",
       "      <td>5797</td>\n",
       "      <td>14628</td>\n",
       "      <td>14219</td>\n",
       "      <td>17154</td>\n",
       "      <td>17875</td>\n",
       "      <td>16066</td>\n",
       "      <td>20797</td>\n",
       "    </tr>\n",
       "  </tbody>\n",
       "</table>\n",
       "</div>"
      ],
      "text/plain": [
       "            make_model   make                            location  \\\n",
       "count            26711  26711                               26711   \n",
       "unique             490     13                                7178   \n",
       "top     Renault Megane  Volvo  Av. Laboral, 10,  28021 MADRID, ES   \n",
       "freq               832   3343                                 306   \n",
       "\n",
       "            body_type   type warranty gearbox fuel_type  seller drivetrain  \\\n",
       "count           26711  26711    26711   26711     26711   26711      26711   \n",
       "unique              6      4        2       3         4       2          3   \n",
       "top     Station wagon   Used       No  Manual   Benzine  Dealer      Front   \n",
       "freq             5391  23367    13480   15669     16862   25103      20415   \n",
       "\n",
       "              extras full_service_history upholstery energy_efficiency_class  \\\n",
       "count          26711                26711      26711                   26711   \n",
       "unique          9021                    2          2                       2   \n",
       "top     Alloy wheels                   No      Cloth               efficient   \n",
       "freq            5797                14628      14219                   17154   \n",
       "\n",
       "       comfort_&_convenience_Package entertainment_&_media_Package  \\\n",
       "count                          26711                         26711   \n",
       "unique                             3                             2   \n",
       "top                         Standard                      Standard   \n",
       "freq                           17875                         16066   \n",
       "\n",
       "       safety_&_security_Package  \n",
       "count                      26711  \n",
       "unique                         3  \n",
       "top       Safety Premium Package  \n",
       "freq                       20797  "
      ]
     },
     "metadata": {},
     "output_type": "display_data"
    }
   ],
   "source": [
    "display(df.describe(include=\"O\"))"
   ]
  },
  {
   "cell_type": "code",
   "execution_count": 61,
   "metadata": {},
   "outputs": [
    {
     "data": {
      "text/html": [
       "<div>\n",
       "<style scoped>\n",
       "    .dataframe tbody tr th:only-of-type {\n",
       "        vertical-align: middle;\n",
       "    }\n",
       "\n",
       "    .dataframe tbody tr th {\n",
       "        vertical-align: top;\n",
       "    }\n",
       "\n",
       "    .dataframe thead th {\n",
       "        text-align: right;\n",
       "    }\n",
       "</style>\n",
       "<table border=\"1\" class=\"dataframe\">\n",
       "  <thead>\n",
       "    <tr style=\"text-align: right;\">\n",
       "      <th></th>\n",
       "      <th>price</th>\n",
       "      <th>mileage</th>\n",
       "      <th>engine_size</th>\n",
       "      <th>gears</th>\n",
       "      <th>co_emissions</th>\n",
       "      <th>empty_weight</th>\n",
       "      <th>previous_owner</th>\n",
       "      <th>age</th>\n",
       "      <th>power_kW</th>\n",
       "      <th>cons_avg</th>\n",
       "    </tr>\n",
       "  </thead>\n",
       "  <tbody>\n",
       "    <tr>\n",
       "      <th>count</th>\n",
       "      <td>26711.000000</td>\n",
       "      <td>26711.000000</td>\n",
       "      <td>26711.000000</td>\n",
       "      <td>26711.000000</td>\n",
       "      <td>26711.000000</td>\n",
       "      <td>26711.000000</td>\n",
       "      <td>26711.000000</td>\n",
       "      <td>26711.000000</td>\n",
       "      <td>26711.000000</td>\n",
       "      <td>26711.000000</td>\n",
       "    </tr>\n",
       "    <tr>\n",
       "      <th>mean</th>\n",
       "      <td>23537.240538</td>\n",
       "      <td>68863.811928</td>\n",
       "      <td>1708.964696</td>\n",
       "      <td>5.820112</td>\n",
       "      <td>129.525841</td>\n",
       "      <td>1425.205421</td>\n",
       "      <td>1.460073</td>\n",
       "      <td>5.166448</td>\n",
       "      <td>118.414380</td>\n",
       "      <td>5.531746</td>\n",
       "    </tr>\n",
       "    <tr>\n",
       "      <th>std</th>\n",
       "      <td>20811.986347</td>\n",
       "      <td>62794.146434</td>\n",
       "      <td>772.439713</td>\n",
       "      <td>1.416920</td>\n",
       "      <td>54.255203</td>\n",
       "      <td>307.386873</td>\n",
       "      <td>0.852665</td>\n",
       "      <td>4.654800</td>\n",
       "      <td>65.642485</td>\n",
       "      <td>2.220290</td>\n",
       "    </tr>\n",
       "    <tr>\n",
       "      <th>min</th>\n",
       "      <td>490.000000</td>\n",
       "      <td>0.000000</td>\n",
       "      <td>0.000000</td>\n",
       "      <td>1.000000</td>\n",
       "      <td>0.000000</td>\n",
       "      <td>347.000000</td>\n",
       "      <td>1.000000</td>\n",
       "      <td>0.000000</td>\n",
       "      <td>33.000000</td>\n",
       "      <td>0.000000</td>\n",
       "    </tr>\n",
       "    <tr>\n",
       "      <th>25%</th>\n",
       "      <td>12490.000000</td>\n",
       "      <td>19155.000000</td>\n",
       "      <td>1248.000000</td>\n",
       "      <td>5.000000</td>\n",
       "      <td>105.000000</td>\n",
       "      <td>1228.000000</td>\n",
       "      <td>1.000000</td>\n",
       "      <td>2.000000</td>\n",
       "      <td>80.000000</td>\n",
       "      <td>4.300000</td>\n",
       "    </tr>\n",
       "    <tr>\n",
       "      <th>50%</th>\n",
       "      <td>18440.000000</td>\n",
       "      <td>54000.000000</td>\n",
       "      <td>1595.000000</td>\n",
       "      <td>6.000000</td>\n",
       "      <td>123.000000</td>\n",
       "      <td>1375.000000</td>\n",
       "      <td>1.000000</td>\n",
       "      <td>4.000000</td>\n",
       "      <td>100.000000</td>\n",
       "      <td>5.200000</td>\n",
       "    </tr>\n",
       "    <tr>\n",
       "      <th>75%</th>\n",
       "      <td>28330.000000</td>\n",
       "      <td>100675.000000</td>\n",
       "      <td>1969.000000</td>\n",
       "      <td>6.000000</td>\n",
       "      <td>150.000000</td>\n",
       "      <td>1597.000000</td>\n",
       "      <td>2.000000</td>\n",
       "      <td>7.000000</td>\n",
       "      <td>135.000000</td>\n",
       "      <td>6.400000</td>\n",
       "    </tr>\n",
       "    <tr>\n",
       "      <th>max</th>\n",
       "      <td>549000.000000</td>\n",
       "      <td>667128.000000</td>\n",
       "      <td>6300.000000</td>\n",
       "      <td>8.000000</td>\n",
       "      <td>399.000000</td>\n",
       "      <td>3150.000000</td>\n",
       "      <td>9.000000</td>\n",
       "      <td>20.000000</td>\n",
       "      <td>450.000000</td>\n",
       "      <td>18.300000</td>\n",
       "    </tr>\n",
       "  </tbody>\n",
       "</table>\n",
       "</div>"
      ],
      "text/plain": [
       "               price        mileage   engine_size         gears  co_emissions  \\\n",
       "count   26711.000000   26711.000000  26711.000000  26711.000000  26711.000000   \n",
       "mean    23537.240538   68863.811928   1708.964696      5.820112    129.525841   \n",
       "std     20811.986347   62794.146434    772.439713      1.416920     54.255203   \n",
       "min       490.000000       0.000000      0.000000      1.000000      0.000000   \n",
       "25%     12490.000000   19155.000000   1248.000000      5.000000    105.000000   \n",
       "50%     18440.000000   54000.000000   1595.000000      6.000000    123.000000   \n",
       "75%     28330.000000  100675.000000   1969.000000      6.000000    150.000000   \n",
       "max    549000.000000  667128.000000   6300.000000      8.000000    399.000000   \n",
       "\n",
       "       empty_weight  previous_owner           age      power_kW      cons_avg  \n",
       "count  26711.000000    26711.000000  26711.000000  26711.000000  26711.000000  \n",
       "mean    1425.205421        1.460073      5.166448    118.414380      5.531746  \n",
       "std      307.386873        0.852665      4.654800     65.642485      2.220290  \n",
       "min      347.000000        1.000000      0.000000     33.000000      0.000000  \n",
       "25%     1228.000000        1.000000      2.000000     80.000000      4.300000  \n",
       "50%     1375.000000        1.000000      4.000000    100.000000      5.200000  \n",
       "75%     1597.000000        2.000000      7.000000    135.000000      6.400000  \n",
       "max     3150.000000        9.000000     20.000000    450.000000     18.300000  "
      ]
     },
     "execution_count": 61,
     "metadata": {},
     "output_type": "execute_result"
    }
   ],
   "source": [
    "df.describe()"
   ]
  },
  {
   "cell_type": "code",
   "execution_count": 62,
   "metadata": {},
   "outputs": [
    {
     "name": "stdout",
     "output_type": "stream",
     "text": [
      "<class 'pandas.core.frame.DataFrame'>\n",
      "RangeIndex: 26711 entries, 0 to 26710\n",
      "Data columns (total 27 columns):\n",
      " #   Column                         Non-Null Count  Dtype  \n",
      "---  ------                         --------------  -----  \n",
      " 0   make_model                     26711 non-null  object \n",
      " 1   make                           26711 non-null  object \n",
      " 2   location                       26711 non-null  object \n",
      " 3   price                          26711 non-null  float64\n",
      " 4   body_type                      26711 non-null  object \n",
      " 5   type                           26711 non-null  object \n",
      " 6   warranty                       26711 non-null  object \n",
      " 7   mileage                        26711 non-null  float64\n",
      " 8   gearbox                        26711 non-null  object \n",
      " 9   fuel_type                      26711 non-null  object \n",
      " 10  seller                         26711 non-null  object \n",
      " 11  engine_size                    26711 non-null  float64\n",
      " 12  gears                          26711 non-null  float64\n",
      " 13  co_emissions                   26711 non-null  float64\n",
      " 14  drivetrain                     26711 non-null  object \n",
      " 15  extras                         26711 non-null  object \n",
      " 16  empty_weight                   26711 non-null  float64\n",
      " 17  full_service_history           26711 non-null  object \n",
      " 18  upholstery                     26711 non-null  object \n",
      " 19  previous_owner                 26711 non-null  float64\n",
      " 20  energy_efficiency_class        26711 non-null  object \n",
      " 21  age                            26711 non-null  float64\n",
      " 22  power_kW                       26711 non-null  float64\n",
      " 23  cons_avg                       26711 non-null  float64\n",
      " 24  comfort_&_convenience_Package  26711 non-null  object \n",
      " 25  entertainment_&_media_Package  26711 non-null  object \n",
      " 26  safety_&_security_Package      26711 non-null  object \n",
      "dtypes: float64(10), object(17)\n",
      "memory usage: 5.5+ MB\n"
     ]
    }
   ],
   "source": [
    "df.info()"
   ]
  },
  {
   "cell_type": "code",
   "execution_count": 63,
   "metadata": {},
   "outputs": [
    {
     "name": "stderr",
     "output_type": "stream",
     "text": [
      "C:\\Users\\habob\\AppData\\Local\\Temp\\ipykernel_26360\\710016527.py:1: FutureWarning: The default value of numeric_only in DataFrame.corr is deprecated. In a future version, it will default to False. Select only valid columns or specify the value of numeric_only to silence this warning.\n",
      "  sns.heatmap(df.corr(), annot=True, vmin=-1, vmax=1, cmap='coolwarm')\n"
     ]
    },
    {
     "data": {
      "text/plain": [
       "<Axes: >"
      ]
     },
     "execution_count": 63,
     "metadata": {},
     "output_type": "execute_result"
    },
    {
     "data": {
      "image/png": "[encoded data removed]",
      "text/plain": [
       "<Figure size 1000x600 with 2 Axes>"
      ]
     },
     "metadata": {},
     "output_type": "display_data"
    }
   ],
   "source": [
    "sns.heatmap(df.corr(), annot=True, vmin=-1, vmax=1, cmap='coolwarm')"
   ]
  },
  {
   "cell_type": "code",
   "execution_count": 64,
   "metadata": {},
   "outputs": [
    {
     "data": {
      "text/plain": [
       "Index(['make_model', 'make', 'location', 'price', 'body_type', 'type',\n",
       "       'warranty', 'mileage', 'gearbox', 'fuel_type', 'seller', 'engine_size',\n",
       "       'gears', 'co_emissions', 'drivetrain', 'extras', 'empty_weight',\n",
       "       'full_service_history', 'upholstery', 'previous_owner',\n",
       "       'energy_efficiency_class', 'age', 'power_kW', 'cons_avg',\n",
       "       'comfort_&_convenience_Package', 'entertainment_&_media_Package',\n",
       "       'safety_&_security_Package'],\n",
       "      dtype='object')"
      ]
     },
     "execution_count": 64,
     "metadata": {},
     "output_type": "execute_result"
    }
   ],
   "source": [
    "df.columns"
   ]
  },
  {
   "cell_type": "markdown",
   "metadata": {
    "id": "t-zj-mrMF-7R"
   },
   "source": [
    "## Feature Engineering\n",
    "\n",
    "- Focus on the \"Extras\" column\n",
    "- Think how a categorical feature can be converted into ordinal."
   ]
  },
  {
   "cell_type": "code",
   "execution_count": 65,
   "metadata": {
    "scrolled": true
   },
   "outputs": [
    {
     "data": {
      "text/html": [
       "<div>\n",
       "<style scoped>\n",
       "    .dataframe tbody tr th:only-of-type {\n",
       "        vertical-align: middle;\n",
       "    }\n",
       "\n",
       "    .dataframe tbody tr th {\n",
       "        vertical-align: top;\n",
       "    }\n",
       "\n",
       "    .dataframe thead th {\n",
       "        text-align: right;\n",
       "    }\n",
       "</style>\n",
       "<table border=\"1\" class=\"dataframe\">\n",
       "  <thead>\n",
       "    <tr style=\"text-align: right;\">\n",
       "      <th></th>\n",
       "      <th>make</th>\n",
       "      <th>price</th>\n",
       "      <th>body_type</th>\n",
       "      <th>warranty</th>\n",
       "      <th>mileage</th>\n",
       "      <th>gearbox</th>\n",
       "      <th>fuel_type</th>\n",
       "      <th>engine_size</th>\n",
       "      <th>gears</th>\n",
       "      <th>drivetrain</th>\n",
       "      <th>extras</th>\n",
       "      <th>empty_weight</th>\n",
       "      <th>full_service_history</th>\n",
       "      <th>upholstery</th>\n",
       "      <th>energy_efficiency_class</th>\n",
       "      <th>age</th>\n",
       "      <th>power_kW</th>\n",
       "      <th>cons_avg</th>\n",
       "      <th>entertainment_&amp;_media_Package</th>\n",
       "    </tr>\n",
       "  </thead>\n",
       "  <tbody>\n",
       "    <tr>\n",
       "      <th>0</th>\n",
       "      <td>Mercedes-Benz</td>\n",
       "      <td>16950.0</td>\n",
       "      <td>Compact</td>\n",
       "      <td>Yes</td>\n",
       "      <td>120200.0</td>\n",
       "      <td>Manual</td>\n",
       "      <td>Diesel</td>\n",
       "      <td>1595.0</td>\n",
       "      <td>5.0</td>\n",
       "      <td>Front</td>\n",
       "      <td>Alloy wheels</td>\n",
       "      <td>1270.0</td>\n",
       "      <td>No</td>\n",
       "      <td>Cloth</td>\n",
       "      <td>efficient</td>\n",
       "      <td>6.0</td>\n",
       "      <td>75.0</td>\n",
       "      <td>3.800</td>\n",
       "      <td>Standard</td>\n",
       "    </tr>\n",
       "    <tr>\n",
       "      <th>1</th>\n",
       "      <td>Mercedes-Benz</td>\n",
       "      <td>80900.0</td>\n",
       "      <td>Compact</td>\n",
       "      <td>Yes</td>\n",
       "      <td>5000.0</td>\n",
       "      <td>Automatic</td>\n",
       "      <td>Electric</td>\n",
       "      <td>1.0</td>\n",
       "      <td>1.0</td>\n",
       "      <td>4WD</td>\n",
       "      <td>Alloy wheels (21\"), Shift paddles, Sport packa...</td>\n",
       "      <td>2355.0</td>\n",
       "      <td>No</td>\n",
       "      <td>Part/Full Leather</td>\n",
       "      <td>efficient</td>\n",
       "      <td>0.0</td>\n",
       "      <td>215.0</td>\n",
       "      <td>2.359</td>\n",
       "      <td>Plus</td>\n",
       "    </tr>\n",
       "    <tr>\n",
       "      <th>2</th>\n",
       "      <td>Mercedes-Benz</td>\n",
       "      <td>69900.0</td>\n",
       "      <td>Compact</td>\n",
       "      <td>Yes</td>\n",
       "      <td>18900.0</td>\n",
       "      <td>Automatic</td>\n",
       "      <td>Benzine</td>\n",
       "      <td>1991.0</td>\n",
       "      <td>8.0</td>\n",
       "      <td>4WD</td>\n",
       "      <td>Alloy wheels</td>\n",
       "      <td>1555.0</td>\n",
       "      <td>No</td>\n",
       "      <td>Part/Full Leather</td>\n",
       "      <td>unefficient</td>\n",
       "      <td>2.0</td>\n",
       "      <td>310.0</td>\n",
       "      <td>8.400</td>\n",
       "      <td>Standard</td>\n",
       "    </tr>\n",
       "    <tr>\n",
       "      <th>3</th>\n",
       "      <td>Mercedes-Benz</td>\n",
       "      <td>46990.0</td>\n",
       "      <td>Compact</td>\n",
       "      <td>Yes</td>\n",
       "      <td>18995.0</td>\n",
       "      <td>Automatic</td>\n",
       "      <td>Benzine</td>\n",
       "      <td>1991.0</td>\n",
       "      <td>7.0</td>\n",
       "      <td>4WD</td>\n",
       "      <td>Sport seats</td>\n",
       "      <td>1455.0</td>\n",
       "      <td>No</td>\n",
       "      <td>Part/Full Leather</td>\n",
       "      <td>unefficient</td>\n",
       "      <td>2.0</td>\n",
       "      <td>225.0</td>\n",
       "      <td>7.300</td>\n",
       "      <td>Standard</td>\n",
       "    </tr>\n",
       "    <tr>\n",
       "      <th>4</th>\n",
       "      <td>Mercedes-Benz</td>\n",
       "      <td>16800.0</td>\n",
       "      <td>Compact</td>\n",
       "      <td>Yes</td>\n",
       "      <td>197000.0</td>\n",
       "      <td>Automatic</td>\n",
       "      <td>Diesel</td>\n",
       "      <td>2143.0</td>\n",
       "      <td>7.0</td>\n",
       "      <td>4WD</td>\n",
       "      <td>Alloy wheels</td>\n",
       "      <td>1545.0</td>\n",
       "      <td>No</td>\n",
       "      <td>Part/Full Leather</td>\n",
       "      <td>unefficient</td>\n",
       "      <td>7.0</td>\n",
       "      <td>100.0</td>\n",
       "      <td>4.900</td>\n",
       "      <td>Standard</td>\n",
       "    </tr>\n",
       "  </tbody>\n",
       "</table>\n",
       "</div>"
      ],
      "text/plain": [
       "            make    price body_type warranty   mileage    gearbox fuel_type  \\\n",
       "0  Mercedes-Benz  16950.0   Compact      Yes  120200.0     Manual    Diesel   \n",
       "1  Mercedes-Benz  80900.0   Compact      Yes    5000.0  Automatic  Electric   \n",
       "2  Mercedes-Benz  69900.0   Compact      Yes   18900.0  Automatic   Benzine   \n",
       "3  Mercedes-Benz  46990.0   Compact      Yes   18995.0  Automatic   Benzine   \n",
       "4  Mercedes-Benz  16800.0   Compact      Yes  197000.0  Automatic    Diesel   \n",
       "\n",
       "   engine_size  gears drivetrain  \\\n",
       "0       1595.0    5.0      Front   \n",
       "1          1.0    1.0        4WD   \n",
       "2       1991.0    8.0        4WD   \n",
       "3       1991.0    7.0        4WD   \n",
       "4       2143.0    7.0        4WD   \n",
       "\n",
       "                                              extras  empty_weight  \\\n",
       "0                                       Alloy wheels        1270.0   \n",
       "1  Alloy wheels (21\"), Shift paddles, Sport packa...        2355.0   \n",
       "2                                       Alloy wheels        1555.0   \n",
       "3                                        Sport seats        1455.0   \n",
       "4                                       Alloy wheels        1545.0   \n",
       "\n",
       "  full_service_history         upholstery energy_efficiency_class  age  \\\n",
       "0                   No              Cloth               efficient  6.0   \n",
       "1                   No  Part/Full Leather               efficient  0.0   \n",
       "2                   No  Part/Full Leather             unefficient  2.0   \n",
       "3                   No  Part/Full Leather             unefficient  2.0   \n",
       "4                   No  Part/Full Leather             unefficient  7.0   \n",
       "\n",
       "   power_kW  cons_avg entertainment_&_media_Package  \n",
       "0      75.0     3.800                      Standard  \n",
       "1     215.0     2.359                          Plus  \n",
       "2     310.0     8.400                      Standard  \n",
       "3     225.0     7.300                      Standard  \n",
       "4     100.0     4.900                      Standard  "
      ]
     },
     "execution_count": 65,
     "metadata": {},
     "output_type": "execute_result"
    }
   ],
   "source": [
    "cars = df.drop([\"make_model\", \"location\", \"type\", \"seller\",\n",
    "                \"previous_owner\", \"comfort_&_convenience_Package\", \"safety_&_security_Package\", \"co_emissions\"], axis=1)\n",
    "cars.head()"
   ]
  },
  {
   "cell_type": "code",
   "execution_count": 66,
   "metadata": {},
   "outputs": [],
   "source": [
    "column_name = 'gearbox'\n",
    "\n",
    "# Define the conversion criteria\n",
    "# Replace 'type1', 'type2', and 'type3' with the actual types in your column\n",
    "type1 = 'Manual'\n",
    "type2 = 'Automatic'\n",
    "type3 = 'Semi-automatic'"
   ]
  },
  {
   "cell_type": "code",
   "execution_count": 67,
   "metadata": {},
   "outputs": [],
   "source": [
    "# Define the conversion function\n",
    "def convert_type(value):\n",
    "    if value == type1:\n",
    "        return 'Manual'  # Replace 'new_type1' with the desired new type for type1\n",
    "    elif value == type2 or value == type3:\n",
    "        return 'Other'  # Replace 'new_type2' with the desired new type for type2 and type3\n",
    "    else:\n",
    "        return value"
   ]
  },
  {
   "cell_type": "code",
   "execution_count": 68,
   "metadata": {},
   "outputs": [
    {
     "name": "stdout",
     "output_type": "stream",
     "text": [
      "0        Manual\n",
      "1         Other\n",
      "2         Other\n",
      "3         Other\n",
      "4         Other\n",
      "          ...  \n",
      "26706     Other\n",
      "26707     Other\n",
      "26708    Manual\n",
      "26709     Other\n",
      "26710     Other\n",
      "Name: gearbox, Length: 26711, dtype: object\n"
     ]
    }
   ],
   "source": [
    "# Apply the conversion function to the column\n",
    "cars['gearbox'] = cars['gearbox'].apply(convert_type)\n",
    "\n",
    "# Print the updated column\n",
    "print(cars['gearbox'])"
   ]
  },
  {
   "cell_type": "code",
   "execution_count": 69,
   "metadata": {},
   "outputs": [
    {
     "data": {
      "text/html": [
       "<div>\n",
       "<style scoped>\n",
       "    .dataframe tbody tr th:only-of-type {\n",
       "        vertical-align: middle;\n",
       "    }\n",
       "\n",
       "    .dataframe tbody tr th {\n",
       "        vertical-align: top;\n",
       "    }\n",
       "\n",
       "    .dataframe thead th {\n",
       "        text-align: right;\n",
       "    }\n",
       "</style>\n",
       "<table border=\"1\" class=\"dataframe\">\n",
       "  <thead>\n",
       "    <tr style=\"text-align: right;\">\n",
       "      <th></th>\n",
       "      <th>gearbox</th>\n",
       "    </tr>\n",
       "  </thead>\n",
       "  <tbody>\n",
       "    <tr>\n",
       "      <th>Manual</th>\n",
       "      <td>15669</td>\n",
       "    </tr>\n",
       "    <tr>\n",
       "      <th>Other</th>\n",
       "      <td>11042</td>\n",
       "    </tr>\n",
       "  </tbody>\n",
       "</table>\n",
       "</div>"
      ],
      "text/plain": [
       "        gearbox\n",
       "Manual    15669\n",
       "Other     11042"
      ]
     },
     "execution_count": 69,
     "metadata": {},
     "output_type": "execute_result"
    }
   ],
   "source": [
    "pd.DataFrame(cars['gearbox'].value_counts())"
   ]
  },
  {
   "cell_type": "markdown",
   "metadata": {
    "id": "BE4GulyIF-7R"
   },
   "source": [
    "### Converting the Extras feature from object to numeric"
   ]
  },
  {
   "cell_type": "code",
   "execution_count": 70,
   "metadata": {},
   "outputs": [
    {
     "data": {
      "text/plain": [
       "0    1\n",
       "1    6\n",
       "2    1\n",
       "3    1\n",
       "4    1\n",
       "5    7\n",
       "6    3\n",
       "7    2\n",
       "8    1\n",
       "9    1\n",
       "Name: extras_nu, dtype: int64"
      ]
     },
     "execution_count": 70,
     "metadata": {},
     "output_type": "execute_result"
    }
   ],
   "source": [
    "cars['extras_nu'] = cars['extras'].apply(lambda x: x.count(',')+1 if x.count(',') > 0 else 1)\n",
    "cars = cars.drop(['extras'], axis=1)\n",
    "# Print the updated DataFrame\n",
    "cars['extras_nu'].head(10)"
   ]
  },
  {
   "cell_type": "code",
   "execution_count": 71,
   "metadata": {},
   "outputs": [
    {
     "data": {
      "text/html": [
       "<div>\n",
       "<style scoped>\n",
       "    .dataframe tbody tr th:only-of-type {\n",
       "        vertical-align: middle;\n",
       "    }\n",
       "\n",
       "    .dataframe tbody tr th {\n",
       "        vertical-align: top;\n",
       "    }\n",
       "\n",
       "    .dataframe thead th {\n",
       "        text-align: right;\n",
       "    }\n",
       "</style>\n",
       "<table border=\"1\" class=\"dataframe\">\n",
       "  <thead>\n",
       "    <tr style=\"text-align: right;\">\n",
       "      <th></th>\n",
       "      <th>make</th>\n",
       "      <th>price</th>\n",
       "      <th>body_type</th>\n",
       "      <th>warranty</th>\n",
       "      <th>mileage</th>\n",
       "      <th>gearbox</th>\n",
       "      <th>fuel_type</th>\n",
       "      <th>engine_size</th>\n",
       "      <th>gears</th>\n",
       "      <th>drivetrain</th>\n",
       "      <th>empty_weight</th>\n",
       "      <th>full_service_history</th>\n",
       "      <th>upholstery</th>\n",
       "      <th>energy_efficiency_class</th>\n",
       "      <th>age</th>\n",
       "      <th>power_kW</th>\n",
       "      <th>cons_avg</th>\n",
       "      <th>entertainment_&amp;_media_Package</th>\n",
       "      <th>extras_nu</th>\n",
       "    </tr>\n",
       "  </thead>\n",
       "  <tbody>\n",
       "    <tr>\n",
       "      <th>0</th>\n",
       "      <td>Mercedes-Benz</td>\n",
       "      <td>16950.0</td>\n",
       "      <td>Compact</td>\n",
       "      <td>Yes</td>\n",
       "      <td>120200.0</td>\n",
       "      <td>Manual</td>\n",
       "      <td>Diesel</td>\n",
       "      <td>1595.0</td>\n",
       "      <td>5.0</td>\n",
       "      <td>Front</td>\n",
       "      <td>1270.0</td>\n",
       "      <td>No</td>\n",
       "      <td>Cloth</td>\n",
       "      <td>efficient</td>\n",
       "      <td>6.0</td>\n",
       "      <td>75.0</td>\n",
       "      <td>3.800</td>\n",
       "      <td>Standard</td>\n",
       "      <td>1</td>\n",
       "    </tr>\n",
       "    <tr>\n",
       "      <th>1</th>\n",
       "      <td>Mercedes-Benz</td>\n",
       "      <td>80900.0</td>\n",
       "      <td>Compact</td>\n",
       "      <td>Yes</td>\n",
       "      <td>5000.0</td>\n",
       "      <td>Other</td>\n",
       "      <td>Electric</td>\n",
       "      <td>1.0</td>\n",
       "      <td>1.0</td>\n",
       "      <td>4WD</td>\n",
       "      <td>2355.0</td>\n",
       "      <td>No</td>\n",
       "      <td>Part/Full Leather</td>\n",
       "      <td>efficient</td>\n",
       "      <td>0.0</td>\n",
       "      <td>215.0</td>\n",
       "      <td>2.359</td>\n",
       "      <td>Plus</td>\n",
       "      <td>6</td>\n",
       "    </tr>\n",
       "    <tr>\n",
       "      <th>2</th>\n",
       "      <td>Mercedes-Benz</td>\n",
       "      <td>69900.0</td>\n",
       "      <td>Compact</td>\n",
       "      <td>Yes</td>\n",
       "      <td>18900.0</td>\n",
       "      <td>Other</td>\n",
       "      <td>Benzine</td>\n",
       "      <td>1991.0</td>\n",
       "      <td>8.0</td>\n",
       "      <td>4WD</td>\n",
       "      <td>1555.0</td>\n",
       "      <td>No</td>\n",
       "      <td>Part/Full Leather</td>\n",
       "      <td>unefficient</td>\n",
       "      <td>2.0</td>\n",
       "      <td>310.0</td>\n",
       "      <td>8.400</td>\n",
       "      <td>Standard</td>\n",
       "      <td>1</td>\n",
       "    </tr>\n",
       "    <tr>\n",
       "      <th>3</th>\n",
       "      <td>Mercedes-Benz</td>\n",
       "      <td>46990.0</td>\n",
       "      <td>Compact</td>\n",
       "      <td>Yes</td>\n",
       "      <td>18995.0</td>\n",
       "      <td>Other</td>\n",
       "      <td>Benzine</td>\n",
       "      <td>1991.0</td>\n",
       "      <td>7.0</td>\n",
       "      <td>4WD</td>\n",
       "      <td>1455.0</td>\n",
       "      <td>No</td>\n",
       "      <td>Part/Full Leather</td>\n",
       "      <td>unefficient</td>\n",
       "      <td>2.0</td>\n",
       "      <td>225.0</td>\n",
       "      <td>7.300</td>\n",
       "      <td>Standard</td>\n",
       "      <td>1</td>\n",
       "    </tr>\n",
       "    <tr>\n",
       "      <th>4</th>\n",
       "      <td>Mercedes-Benz</td>\n",
       "      <td>16800.0</td>\n",
       "      <td>Compact</td>\n",
       "      <td>Yes</td>\n",
       "      <td>197000.0</td>\n",
       "      <td>Other</td>\n",
       "      <td>Diesel</td>\n",
       "      <td>2143.0</td>\n",
       "      <td>7.0</td>\n",
       "      <td>4WD</td>\n",
       "      <td>1545.0</td>\n",
       "      <td>No</td>\n",
       "      <td>Part/Full Leather</td>\n",
       "      <td>unefficient</td>\n",
       "      <td>7.0</td>\n",
       "      <td>100.0</td>\n",
       "      <td>4.900</td>\n",
       "      <td>Standard</td>\n",
       "      <td>1</td>\n",
       "    </tr>\n",
       "  </tbody>\n",
       "</table>\n",
       "</div>"
      ],
      "text/plain": [
       "            make    price body_type warranty   mileage gearbox fuel_type  \\\n",
       "0  Mercedes-Benz  16950.0   Compact      Yes  120200.0  Manual    Diesel   \n",
       "1  Mercedes-Benz  80900.0   Compact      Yes    5000.0   Other  Electric   \n",
       "2  Mercedes-Benz  69900.0   Compact      Yes   18900.0   Other   Benzine   \n",
       "3  Mercedes-Benz  46990.0   Compact      Yes   18995.0   Other   Benzine   \n",
       "4  Mercedes-Benz  16800.0   Compact      Yes  197000.0   Other    Diesel   \n",
       "\n",
       "   engine_size  gears drivetrain  empty_weight full_service_history  \\\n",
       "0       1595.0    5.0      Front        1270.0                   No   \n",
       "1          1.0    1.0        4WD        2355.0                   No   \n",
       "2       1991.0    8.0        4WD        1555.0                   No   \n",
       "3       1991.0    7.0        4WD        1455.0                   No   \n",
       "4       2143.0    7.0        4WD        1545.0                   No   \n",
       "\n",
       "          upholstery energy_efficiency_class  age  power_kW  cons_avg  \\\n",
       "0              Cloth               efficient  6.0      75.0     3.800   \n",
       "1  Part/Full Leather               efficient  0.0     215.0     2.359   \n",
       "2  Part/Full Leather             unefficient  2.0     310.0     8.400   \n",
       "3  Part/Full Leather             unefficient  2.0     225.0     7.300   \n",
       "4  Part/Full Leather             unefficient  7.0     100.0     4.900   \n",
       "\n",
       "  entertainment_&_media_Package  extras_nu  \n",
       "0                      Standard          1  \n",
       "1                          Plus          6  \n",
       "2                      Standard          1  \n",
       "3                      Standard          1  \n",
       "4                      Standard          1  "
      ]
     },
     "execution_count": 71,
     "metadata": {},
     "output_type": "execute_result"
    }
   ],
   "source": [
    "cars.head()"
   ]
  },
  {
   "cell_type": "markdown",
   "metadata": {
    "id": "k5whiXJgF-7S"
   },
   "source": [
    "## multicollinearity control"
   ]
  },
  {
   "cell_type": "code",
   "execution_count": 72,
   "metadata": {},
   "outputs": [],
   "source": [
    "from statsmodels.stats.outliers_influence import variance_inflation_factor"
   ]
  },
  {
   "cell_type": "code",
   "execution_count": 73,
   "metadata": {},
   "outputs": [],
   "source": [
    "df_vif = cars.copy()\n",
    "df_predictors = cars.drop('price', axis=1)\n",
    "predictors = df_predictors.columns\n",
    "\n",
    "vif_data = pd.DataFrame()\n",
    "vif_data['Variable'] = predictors"
   ]
  },
  {
   "cell_type": "code",
   "execution_count": 74,
   "metadata": {
    "id": "cX7UfF2GF-7S"
   },
   "outputs": [
    {
     "name": "stderr",
     "output_type": "stream",
     "text": [
      "C:\\Users\\habob\\AppData\\Local\\Temp\\ipykernel_26360\\1614411968.py:1: FutureWarning: The default value of numeric_only in DataFrame.corr is deprecated. In a future version, it will default to False. Select only valid columns or specify the value of numeric_only to silence this warning.\n",
      "  sns.heatmap(data=cars.corr(), annot=True)\n"
     ]
    },
    {
     "data": {
      "text/plain": [
       "<Axes: >"
      ]
     },
     "execution_count": 74,
     "metadata": {},
     "output_type": "execute_result"
    },
    {
     "data": {
      "image/png": "[encoded data removed]",
      "text/plain": [
       "<Figure size 1000x600 with 2 Axes>"
      ]
     },
     "metadata": {},
     "output_type": "display_data"
    }
   ],
   "source": [
    "sns.heatmap(data=cars.corr(), annot=True)"
   ]
  },
  {
   "cell_type": "markdown",
   "metadata": {
    "id": "q33cPxoAF-7S"
   },
   "source": [
    "## 2. Data Pre-Processing\n",
    "\n",
    "As you know, the data set must be edited before proceeding to the implementation of the model. As the last step before model fitting, you need to spilit the data set as train and test. Then, you should train the model with train data and evaluate the performance of the model on the test data. You can use the train and test data you have created for all algorithms.\n",
    "\n",
    "You must also drop your target variable, the column you are trying to predict.\n",
    "\n",
    "You can use many [performance metrics for regression](https://medium.com/analytics-vidhya/evaluation-metrics-for-regression-problems-343c4923d922) to measure the performance of the regression model you train. You can define a function to view different metric results together.\n",
    "\n",
    "You can also use the [cross validation](https://towardsdatascience.com/cross-validation-explained-evaluating-estimator-performance-e51e5430ff85) method to measure the estimator performance. Cross validation uses different data samples from your test set and calculates the accuracy score for each data sample. You can calculate the final performance of your estimator by averaging these scores."
   ]
  },
  {
   "cell_type": "code",
   "execution_count": 75,
   "metadata": {},
   "outputs": [
    {
     "data": {
      "text/html": [
       "<div>\n",
       "<style scoped>\n",
       "    .dataframe tbody tr th:only-of-type {\n",
       "        vertical-align: middle;\n",
       "    }\n",
       "\n",
       "    .dataframe tbody tr th {\n",
       "        vertical-align: top;\n",
       "    }\n",
       "\n",
       "    .dataframe thead th {\n",
       "        text-align: right;\n",
       "    }\n",
       "</style>\n",
       "<table border=\"1\" class=\"dataframe\">\n",
       "  <thead>\n",
       "    <tr style=\"text-align: right;\">\n",
       "      <th></th>\n",
       "      <th>make</th>\n",
       "      <th>body_type</th>\n",
       "      <th>warranty</th>\n",
       "      <th>gearbox</th>\n",
       "      <th>fuel_type</th>\n",
       "      <th>drivetrain</th>\n",
       "      <th>full_service_history</th>\n",
       "      <th>upholstery</th>\n",
       "      <th>energy_efficiency_class</th>\n",
       "      <th>entertainment_&amp;_media_Package</th>\n",
       "    </tr>\n",
       "  </thead>\n",
       "  <tbody>\n",
       "    <tr>\n",
       "      <th>count</th>\n",
       "      <td>26711</td>\n",
       "      <td>26711</td>\n",
       "      <td>26711</td>\n",
       "      <td>26711</td>\n",
       "      <td>26711</td>\n",
       "      <td>26711</td>\n",
       "      <td>26711</td>\n",
       "      <td>26711</td>\n",
       "      <td>26711</td>\n",
       "      <td>26711</td>\n",
       "    </tr>\n",
       "    <tr>\n",
       "      <th>unique</th>\n",
       "      <td>13</td>\n",
       "      <td>6</td>\n",
       "      <td>2</td>\n",
       "      <td>2</td>\n",
       "      <td>4</td>\n",
       "      <td>3</td>\n",
       "      <td>2</td>\n",
       "      <td>2</td>\n",
       "      <td>2</td>\n",
       "      <td>2</td>\n",
       "    </tr>\n",
       "    <tr>\n",
       "      <th>top</th>\n",
       "      <td>Volvo</td>\n",
       "      <td>Station wagon</td>\n",
       "      <td>No</td>\n",
       "      <td>Manual</td>\n",
       "      <td>Benzine</td>\n",
       "      <td>Front</td>\n",
       "      <td>No</td>\n",
       "      <td>Cloth</td>\n",
       "      <td>efficient</td>\n",
       "      <td>Standard</td>\n",
       "    </tr>\n",
       "    <tr>\n",
       "      <th>freq</th>\n",
       "      <td>3343</td>\n",
       "      <td>5391</td>\n",
       "      <td>13480</td>\n",
       "      <td>15669</td>\n",
       "      <td>16862</td>\n",
       "      <td>20415</td>\n",
       "      <td>14628</td>\n",
       "      <td>14219</td>\n",
       "      <td>17154</td>\n",
       "      <td>16066</td>\n",
       "    </tr>\n",
       "  </tbody>\n",
       "</table>\n",
       "</div>"
      ],
      "text/plain": [
       "         make      body_type warranty gearbox fuel_type drivetrain  \\\n",
       "count   26711          26711    26711   26711     26711      26711   \n",
       "unique     13              6        2       2         4          3   \n",
       "top     Volvo  Station wagon       No  Manual   Benzine      Front   \n",
       "freq     3343           5391    13480   15669     16862      20415   \n",
       "\n",
       "       full_service_history upholstery energy_efficiency_class  \\\n",
       "count                 26711      26711                   26711   \n",
       "unique                    2          2                       2   \n",
       "top                      No      Cloth               efficient   \n",
       "freq                  14628      14219                   17154   \n",
       "\n",
       "       entertainment_&_media_Package  \n",
       "count                          26711  \n",
       "unique                             2  \n",
       "top                         Standard  \n",
       "freq                           16066  "
      ]
     },
     "execution_count": 75,
     "metadata": {},
     "output_type": "execute_result"
    }
   ],
   "source": [
    "cars.describe(include='O')"
   ]
  },
  {
   "cell_type": "markdown",
   "metadata": {
    "id": "vpoca2LgF-7T"
   },
   "source": [
    "### Train | Test Split"
   ]
  },
  {
   "cell_type": "code",
   "execution_count": 76,
   "metadata": {
    "id": "vG4xZnMSF-7T"
   },
   "outputs": [],
   "source": [
    "from sklearn.model_selection import train_test_split\n",
    "\n",
    "X = cars.drop('price', axis=1)\n",
    "y = cars['price']"
   ]
  },
  {
   "cell_type": "code",
   "execution_count": 77,
   "metadata": {},
   "outputs": [
    {
     "data": {
      "text/html": [
       "<div>\n",
       "<style scoped>\n",
       "    .dataframe tbody tr th:only-of-type {\n",
       "        vertical-align: middle;\n",
       "    }\n",
       "\n",
       "    .dataframe tbody tr th {\n",
       "        vertical-align: top;\n",
       "    }\n",
       "\n",
       "    .dataframe thead th {\n",
       "        text-align: right;\n",
       "    }\n",
       "</style>\n",
       "<table border=\"1\" class=\"dataframe\">\n",
       "  <thead>\n",
       "    <tr style=\"text-align: right;\">\n",
       "      <th></th>\n",
       "      <th>make</th>\n",
       "      <th>body_type</th>\n",
       "      <th>warranty</th>\n",
       "      <th>mileage</th>\n",
       "      <th>gearbox</th>\n",
       "      <th>fuel_type</th>\n",
       "      <th>engine_size</th>\n",
       "      <th>gears</th>\n",
       "      <th>drivetrain</th>\n",
       "      <th>empty_weight</th>\n",
       "      <th>full_service_history</th>\n",
       "      <th>upholstery</th>\n",
       "      <th>energy_efficiency_class</th>\n",
       "      <th>age</th>\n",
       "      <th>power_kW</th>\n",
       "      <th>cons_avg</th>\n",
       "      <th>entertainment_&amp;_media_Package</th>\n",
       "      <th>extras_nu</th>\n",
       "    </tr>\n",
       "  </thead>\n",
       "  <tbody>\n",
       "    <tr>\n",
       "      <th>0</th>\n",
       "      <td>Mercedes-Benz</td>\n",
       "      <td>Compact</td>\n",
       "      <td>Yes</td>\n",
       "      <td>120200.0</td>\n",
       "      <td>Manual</td>\n",
       "      <td>Diesel</td>\n",
       "      <td>1595.0</td>\n",
       "      <td>5.0</td>\n",
       "      <td>Front</td>\n",
       "      <td>1270.0</td>\n",
       "      <td>No</td>\n",
       "      <td>Cloth</td>\n",
       "      <td>efficient</td>\n",
       "      <td>6.0</td>\n",
       "      <td>75.0</td>\n",
       "      <td>3.800</td>\n",
       "      <td>Standard</td>\n",
       "      <td>1</td>\n",
       "    </tr>\n",
       "    <tr>\n",
       "      <th>1</th>\n",
       "      <td>Mercedes-Benz</td>\n",
       "      <td>Compact</td>\n",
       "      <td>Yes</td>\n",
       "      <td>5000.0</td>\n",
       "      <td>Other</td>\n",
       "      <td>Electric</td>\n",
       "      <td>1.0</td>\n",
       "      <td>1.0</td>\n",
       "      <td>4WD</td>\n",
       "      <td>2355.0</td>\n",
       "      <td>No</td>\n",
       "      <td>Part/Full Leather</td>\n",
       "      <td>efficient</td>\n",
       "      <td>0.0</td>\n",
       "      <td>215.0</td>\n",
       "      <td>2.359</td>\n",
       "      <td>Plus</td>\n",
       "      <td>6</td>\n",
       "    </tr>\n",
       "    <tr>\n",
       "      <th>2</th>\n",
       "      <td>Mercedes-Benz</td>\n",
       "      <td>Compact</td>\n",
       "      <td>Yes</td>\n",
       "      <td>18900.0</td>\n",
       "      <td>Other</td>\n",
       "      <td>Benzine</td>\n",
       "      <td>1991.0</td>\n",
       "      <td>8.0</td>\n",
       "      <td>4WD</td>\n",
       "      <td>1555.0</td>\n",
       "      <td>No</td>\n",
       "      <td>Part/Full Leather</td>\n",
       "      <td>unefficient</td>\n",
       "      <td>2.0</td>\n",
       "      <td>310.0</td>\n",
       "      <td>8.400</td>\n",
       "      <td>Standard</td>\n",
       "      <td>1</td>\n",
       "    </tr>\n",
       "    <tr>\n",
       "      <th>3</th>\n",
       "      <td>Mercedes-Benz</td>\n",
       "      <td>Compact</td>\n",
       "      <td>Yes</td>\n",
       "      <td>18995.0</td>\n",
       "      <td>Other</td>\n",
       "      <td>Benzine</td>\n",
       "      <td>1991.0</td>\n",
       "      <td>7.0</td>\n",
       "      <td>4WD</td>\n",
       "      <td>1455.0</td>\n",
       "      <td>No</td>\n",
       "      <td>Part/Full Leather</td>\n",
       "      <td>unefficient</td>\n",
       "      <td>2.0</td>\n",
       "      <td>225.0</td>\n",
       "      <td>7.300</td>\n",
       "      <td>Standard</td>\n",
       "      <td>1</td>\n",
       "    </tr>\n",
       "    <tr>\n",
       "      <th>4</th>\n",
       "      <td>Mercedes-Benz</td>\n",
       "      <td>Compact</td>\n",
       "      <td>Yes</td>\n",
       "      <td>197000.0</td>\n",
       "      <td>Other</td>\n",
       "      <td>Diesel</td>\n",
       "      <td>2143.0</td>\n",
       "      <td>7.0</td>\n",
       "      <td>4WD</td>\n",
       "      <td>1545.0</td>\n",
       "      <td>No</td>\n",
       "      <td>Part/Full Leather</td>\n",
       "      <td>unefficient</td>\n",
       "      <td>7.0</td>\n",
       "      <td>100.0</td>\n",
       "      <td>4.900</td>\n",
       "      <td>Standard</td>\n",
       "      <td>1</td>\n",
       "    </tr>\n",
       "    <tr>\n",
       "      <th>...</th>\n",
       "      <td>...</td>\n",
       "      <td>...</td>\n",
       "      <td>...</td>\n",
       "      <td>...</td>\n",
       "      <td>...</td>\n",
       "      <td>...</td>\n",
       "      <td>...</td>\n",
       "      <td>...</td>\n",
       "      <td>...</td>\n",
       "      <td>...</td>\n",
       "      <td>...</td>\n",
       "      <td>...</td>\n",
       "      <td>...</td>\n",
       "      <td>...</td>\n",
       "      <td>...</td>\n",
       "      <td>...</td>\n",
       "      <td>...</td>\n",
       "      <td>...</td>\n",
       "    </tr>\n",
       "    <tr>\n",
       "      <th>26706</th>\n",
       "      <td>Volvo</td>\n",
       "      <td>Sedan</td>\n",
       "      <td>Yes</td>\n",
       "      <td>40345.0</td>\n",
       "      <td>Other</td>\n",
       "      <td>Diesel</td>\n",
       "      <td>1969.0</td>\n",
       "      <td>8.0</td>\n",
       "      <td>4WD</td>\n",
       "      <td>2077.0</td>\n",
       "      <td>No</td>\n",
       "      <td>Part/Full Leather</td>\n",
       "      <td>efficient</td>\n",
       "      <td>3.0</td>\n",
       "      <td>288.0</td>\n",
       "      <td>2.000</td>\n",
       "      <td>Standard</td>\n",
       "      <td>1</td>\n",
       "    </tr>\n",
       "    <tr>\n",
       "      <th>26707</th>\n",
       "      <td>Volvo</td>\n",
       "      <td>Sedan</td>\n",
       "      <td>No</td>\n",
       "      <td>145000.0</td>\n",
       "      <td>Other</td>\n",
       "      <td>Benzine</td>\n",
       "      <td>2435.0</td>\n",
       "      <td>5.0</td>\n",
       "      <td>Front</td>\n",
       "      <td>1357.0</td>\n",
       "      <td>Yes</td>\n",
       "      <td>Cloth</td>\n",
       "      <td>efficient</td>\n",
       "      <td>18.0</td>\n",
       "      <td>125.0</td>\n",
       "      <td>9.100</td>\n",
       "      <td>Standard</td>\n",
       "      <td>2</td>\n",
       "    </tr>\n",
       "    <tr>\n",
       "      <th>26708</th>\n",
       "      <td>Volvo</td>\n",
       "      <td>Sedan</td>\n",
       "      <td>Yes</td>\n",
       "      <td>96000.0</td>\n",
       "      <td>Manual</td>\n",
       "      <td>Diesel</td>\n",
       "      <td>1560.0</td>\n",
       "      <td>6.0</td>\n",
       "      <td>Front</td>\n",
       "      <td>1356.0</td>\n",
       "      <td>Yes</td>\n",
       "      <td>Cloth</td>\n",
       "      <td>unefficient</td>\n",
       "      <td>11.0</td>\n",
       "      <td>84.0</td>\n",
       "      <td>3.800</td>\n",
       "      <td>Standard</td>\n",
       "      <td>3</td>\n",
       "    </tr>\n",
       "    <tr>\n",
       "      <th>26709</th>\n",
       "      <td>Volvo</td>\n",
       "      <td>Sedan</td>\n",
       "      <td>Yes</td>\n",
       "      <td>94343.0</td>\n",
       "      <td>Other</td>\n",
       "      <td>Benzine</td>\n",
       "      <td>1969.0</td>\n",
       "      <td>8.0</td>\n",
       "      <td>4WD</td>\n",
       "      <td>1617.0</td>\n",
       "      <td>Yes</td>\n",
       "      <td>Part/Full Leather</td>\n",
       "      <td>efficient</td>\n",
       "      <td>5.0</td>\n",
       "      <td>187.0</td>\n",
       "      <td>6.500</td>\n",
       "      <td>Standard</td>\n",
       "      <td>2</td>\n",
       "    </tr>\n",
       "    <tr>\n",
       "      <th>26710</th>\n",
       "      <td>Volvo</td>\n",
       "      <td>Sedan</td>\n",
       "      <td>No</td>\n",
       "      <td>230047.0</td>\n",
       "      <td>Other</td>\n",
       "      <td>Benzine</td>\n",
       "      <td>2922.0</td>\n",
       "      <td>6.0</td>\n",
       "      <td>Front</td>\n",
       "      <td>1573.0</td>\n",
       "      <td>No</td>\n",
       "      <td>Part/Full Leather</td>\n",
       "      <td>unefficient</td>\n",
       "      <td>20.0</td>\n",
       "      <td>147.0</td>\n",
       "      <td>10.400</td>\n",
       "      <td>Standard</td>\n",
       "      <td>4</td>\n",
       "    </tr>\n",
       "  </tbody>\n",
       "</table>\n",
       "<p>26711 rows × 18 columns</p>\n",
       "</div>"
      ],
      "text/plain": [
       "                make body_type warranty   mileage gearbox fuel_type  \\\n",
       "0      Mercedes-Benz   Compact      Yes  120200.0  Manual    Diesel   \n",
       "1      Mercedes-Benz   Compact      Yes    5000.0   Other  Electric   \n",
       "2      Mercedes-Benz   Compact      Yes   18900.0   Other   Benzine   \n",
       "3      Mercedes-Benz   Compact      Yes   18995.0   Other   Benzine   \n",
       "4      Mercedes-Benz   Compact      Yes  197000.0   Other    Diesel   \n",
       "...              ...       ...      ...       ...     ...       ...   \n",
       "26706          Volvo     Sedan      Yes   40345.0   Other    Diesel   \n",
       "26707          Volvo     Sedan       No  145000.0   Other   Benzine   \n",
       "26708          Volvo     Sedan      Yes   96000.0  Manual    Diesel   \n",
       "26709          Volvo     Sedan      Yes   94343.0   Other   Benzine   \n",
       "26710          Volvo     Sedan       No  230047.0   Other   Benzine   \n",
       "\n",
       "       engine_size  gears drivetrain  empty_weight full_service_history  \\\n",
       "0           1595.0    5.0      Front        1270.0                   No   \n",
       "1              1.0    1.0        4WD        2355.0                   No   \n",
       "2           1991.0    8.0        4WD        1555.0                   No   \n",
       "3           1991.0    7.0        4WD        1455.0                   No   \n",
       "4           2143.0    7.0        4WD        1545.0                   No   \n",
       "...            ...    ...        ...           ...                  ...   \n",
       "26706       1969.0    8.0        4WD        2077.0                   No   \n",
       "26707       2435.0    5.0      Front        1357.0                  Yes   \n",
       "26708       1560.0    6.0      Front        1356.0                  Yes   \n",
       "26709       1969.0    8.0        4WD        1617.0                  Yes   \n",
       "26710       2922.0    6.0      Front        1573.0                   No   \n",
       "\n",
       "              upholstery energy_efficiency_class   age  power_kW  cons_avg  \\\n",
       "0                  Cloth               efficient   6.0      75.0     3.800   \n",
       "1      Part/Full Leather               efficient   0.0     215.0     2.359   \n",
       "2      Part/Full Leather             unefficient   2.0     310.0     8.400   \n",
       "3      Part/Full Leather             unefficient   2.0     225.0     7.300   \n",
       "4      Part/Full Leather             unefficient   7.0     100.0     4.900   \n",
       "...                  ...                     ...   ...       ...       ...   \n",
       "26706  Part/Full Leather               efficient   3.0     288.0     2.000   \n",
       "26707              Cloth               efficient  18.0     125.0     9.100   \n",
       "26708              Cloth             unefficient  11.0      84.0     3.800   \n",
       "26709  Part/Full Leather               efficient   5.0     187.0     6.500   \n",
       "26710  Part/Full Leather             unefficient  20.0     147.0    10.400   \n",
       "\n",
       "      entertainment_&_media_Package  extras_nu  \n",
       "0                          Standard          1  \n",
       "1                              Plus          6  \n",
       "2                          Standard          1  \n",
       "3                          Standard          1  \n",
       "4                          Standard          1  \n",
       "...                             ...        ...  \n",
       "26706                      Standard          1  \n",
       "26707                      Standard          2  \n",
       "26708                      Standard          3  \n",
       "26709                      Standard          2  \n",
       "26710                      Standard          4  \n",
       "\n",
       "[26711 rows x 18 columns]"
      ]
     },
     "execution_count": 77,
     "metadata": {},
     "output_type": "execute_result"
    }
   ],
   "source": [
    "X"
   ]
  },
  {
   "cell_type": "code",
   "execution_count": 78,
   "metadata": {},
   "outputs": [
    {
     "data": {
      "text/plain": [
       "0        16950.0\n",
       "1        80900.0\n",
       "2        69900.0\n",
       "3        46990.0\n",
       "4        16800.0\n",
       "          ...   \n",
       "26706    37600.0\n",
       "26707     5499.0\n",
       "26708     7300.0\n",
       "26709    29900.0\n",
       "26710     4440.0\n",
       "Name: price, Length: 26711, dtype: float64"
      ]
     },
     "execution_count": 78,
     "metadata": {},
     "output_type": "execute_result"
    }
   ],
   "source": [
    "y"
   ]
  },
  {
   "cell_type": "markdown",
   "metadata": {
    "id": "oCxOEGc3F-7T"
   },
   "source": [
    "## OneHotEncoder"
   ]
  },
  {
   "cell_type": "markdown",
   "metadata": {
    "id": "2BOP0tH8F-7T"
   },
   "source": [
    "### Example"
   ]
  },
  {
   "cell_type": "code",
   "execution_count": 79,
   "metadata": {
    "id": "FDBrEhPZF-7U"
   },
   "outputs": [],
   "source": [
    "from sklearn.preprocessing import OneHotEncoder\n",
    "\n",
    "enc = OneHotEncoder(handle_unknown=\"ignore\", sparse=False)\n",
    "\n",
    "# OneHotEncoder converts categorical features into dummies (0 and 1). If we want our model to treat all unique values ​​under the categorical feature equally,\n",
    "# we convert our categorical data to 0 and 1 using the onehotencoder conversion algorithm.\n",
    "# We could also use the get_dummies() function for this conversion, but since applying get_dummies() to all data and then separating the data into train and test sets will cause data leakege,\n",
    "# categorical observations for the data we prepared for ML models must be converted into dummies features with the onehotencoder conversion algorithm.\n",
    "# However, when converting to categorical data, the following should not be forgotten: if there is a hierarchical superiority or ranking (expensive,\n",
    "# normal, cheap or Large, average, small, etc.) among unique observations in a categorical feature, the ordinalencoder conversion algorithm should be used.\n",
    "# We will talk about this algorithm when it takes place. Conversion of categorical data to dummies features is done according to the unique categorical data in the train set where the fit process is performed.\n",
    "# With the handle_unknown = \"ignore\" parameter, all categorical data passed in the test set and not in the train set are converted to 0. The default of this parameter is handle_unknown = \"error\".\n",
    "# If the handle_unknown parameter remains at its default value, the onehotencoder algorithm will fail for an observation that is in the test set but not in the train set."
   ]
  },
  {
   "cell_type": "code",
   "execution_count": 80,
   "metadata": {
    "colab": {
     "base_uri": "https://localhost:8080/",
     "height": 363
    },
    "executionInfo": {
     "elapsed": 281,
     "status": "ok",
     "timestamp": 1689020022360,
     "user": {
      "displayName": "Orion Cloud",
      "userId": "13399699001942214669"
     },
     "user_tz": -180
    },
    "id": "rrYd0avpF-7U",
    "outputId": "2473730a-2104-40be-fec0-264f7e44177b"
   },
   "outputs": [
    {
     "data": {
      "text/html": [
       "<div>\n",
       "<style scoped>\n",
       "    .dataframe tbody tr th:only-of-type {\n",
       "        vertical-align: middle;\n",
       "    }\n",
       "\n",
       "    .dataframe tbody tr th {\n",
       "        vertical-align: top;\n",
       "    }\n",
       "\n",
       "    .dataframe thead th {\n",
       "        text-align: right;\n",
       "    }\n",
       "</style>\n",
       "<table border=\"1\" class=\"dataframe\">\n",
       "  <thead>\n",
       "    <tr style=\"text-align: right;\">\n",
       "      <th></th>\n",
       "      <th>col</th>\n",
       "      <th>y</th>\n",
       "    </tr>\n",
       "  </thead>\n",
       "  <tbody>\n",
       "    <tr>\n",
       "      <th>0</th>\n",
       "      <td>bad</td>\n",
       "      <td>1</td>\n",
       "    </tr>\n",
       "    <tr>\n",
       "      <th>1</th>\n",
       "      <td>worst</td>\n",
       "      <td>2</td>\n",
       "    </tr>\n",
       "    <tr>\n",
       "      <th>2</th>\n",
       "      <td>good</td>\n",
       "      <td>3</td>\n",
       "    </tr>\n",
       "    <tr>\n",
       "      <th>3</th>\n",
       "      <td>good</td>\n",
       "      <td>4</td>\n",
       "    </tr>\n",
       "    <tr>\n",
       "      <th>4</th>\n",
       "      <td>bad</td>\n",
       "      <td>5</td>\n",
       "    </tr>\n",
       "    <tr>\n",
       "      <th>5</th>\n",
       "      <td>bed</td>\n",
       "      <td>6</td>\n",
       "    </tr>\n",
       "    <tr>\n",
       "      <th>6</th>\n",
       "      <td>good</td>\n",
       "      <td>7</td>\n",
       "    </tr>\n",
       "    <tr>\n",
       "      <th>7</th>\n",
       "      <td>good</td>\n",
       "      <td>8</td>\n",
       "    </tr>\n",
       "    <tr>\n",
       "      <th>8</th>\n",
       "      <td>bad</td>\n",
       "      <td>9</td>\n",
       "    </tr>\n",
       "    <tr>\n",
       "      <th>9</th>\n",
       "      <td>car</td>\n",
       "      <td>10</td>\n",
       "    </tr>\n",
       "  </tbody>\n",
       "</table>\n",
       "</div>"
      ],
      "text/plain": [
       "     col   y\n",
       "0    bad   1\n",
       "1  worst   2\n",
       "2   good   3\n",
       "3   good   4\n",
       "4    bad   5\n",
       "5    bed   6\n",
       "6   good   7\n",
       "7   good   8\n",
       "8    bad   9\n",
       "9    car  10"
      ]
     },
     "execution_count": 80,
     "metadata": {},
     "output_type": "execute_result"
    }
   ],
   "source": [
    "data = {\"col\": ['bad','worst','good', 'good', 'bad', \"bed\",'good', 'good', 'bad', \"car\"], \"y\": [1,2,3,4,5,6,7,8,9,10]}\n",
    "data = pd.DataFrame(data)\n",
    "data"
   ]
  },
  {
   "cell_type": "code",
   "execution_count": 81,
   "metadata": {
    "id": "odrywFscYBXq"
   },
   "outputs": [],
   "source": [
    "from sklearn.model_selection import train_test_split\n",
    "\n",
    "X_train, X_test, y_train, y_test = train_test_split(data[[\"col\"]], data[\"y\"], test_size=0.3, shuffle=False)"
   ]
  },
  {
   "cell_type": "code",
   "execution_count": 82,
   "metadata": {
    "colab": {
     "base_uri": "https://localhost:8080/",
     "height": 269
    },
    "executionInfo": {
     "elapsed": 369,
     "status": "ok",
     "timestamp": 1689020026652,
     "user": {
      "displayName": "Orion Cloud",
      "userId": "13399699001942214669"
     },
     "user_tz": -180
    },
    "id": "_tAMPTtlF-7V",
    "outputId": "9ff8e7de-6b83-4b92-bb5f-cc2d34d92bd9"
   },
   "outputs": [
    {
     "data": {
      "text/html": [
       "<div>\n",
       "<style scoped>\n",
       "    .dataframe tbody tr th:only-of-type {\n",
       "        vertical-align: middle;\n",
       "    }\n",
       "\n",
       "    .dataframe tbody tr th {\n",
       "        vertical-align: top;\n",
       "    }\n",
       "\n",
       "    .dataframe thead th {\n",
       "        text-align: right;\n",
       "    }\n",
       "</style>\n",
       "<table border=\"1\" class=\"dataframe\">\n",
       "  <thead>\n",
       "    <tr style=\"text-align: right;\">\n",
       "      <th></th>\n",
       "      <th>col</th>\n",
       "    </tr>\n",
       "  </thead>\n",
       "  <tbody>\n",
       "    <tr>\n",
       "      <th>0</th>\n",
       "      <td>bad</td>\n",
       "    </tr>\n",
       "    <tr>\n",
       "      <th>1</th>\n",
       "      <td>worst</td>\n",
       "    </tr>\n",
       "    <tr>\n",
       "      <th>2</th>\n",
       "      <td>good</td>\n",
       "    </tr>\n",
       "    <tr>\n",
       "      <th>3</th>\n",
       "      <td>good</td>\n",
       "    </tr>\n",
       "    <tr>\n",
       "      <th>4</th>\n",
       "      <td>bad</td>\n",
       "    </tr>\n",
       "    <tr>\n",
       "      <th>5</th>\n",
       "      <td>bed</td>\n",
       "    </tr>\n",
       "    <tr>\n",
       "      <th>6</th>\n",
       "      <td>good</td>\n",
       "    </tr>\n",
       "  </tbody>\n",
       "</table>\n",
       "</div>"
      ],
      "text/plain": [
       "     col\n",
       "0    bad\n",
       "1  worst\n",
       "2   good\n",
       "3   good\n",
       "4    bad\n",
       "5    bed\n",
       "6   good"
      ]
     },
     "execution_count": 82,
     "metadata": {},
     "output_type": "execute_result"
    }
   ],
   "source": [
    "X_train"
   ]
  },
  {
   "cell_type": "code",
   "execution_count": 83,
   "metadata": {
    "colab": {
     "base_uri": "https://localhost:8080/",
     "height": 143
    },
    "executionInfo": {
     "elapsed": 283,
     "status": "ok",
     "timestamp": 1689020031320,
     "user": {
      "displayName": "Orion Cloud",
      "userId": "13399699001942214669"
     },
     "user_tz": -180
    },
    "id": "a5Jteya5F-7W",
    "outputId": "fa3f1499-d1d5-480f-cf4b-f4c6a985c1b0"
   },
   "outputs": [
    {
     "data": {
      "text/html": [
       "<div>\n",
       "<style scoped>\n",
       "    .dataframe tbody tr th:only-of-type {\n",
       "        vertical-align: middle;\n",
       "    }\n",
       "\n",
       "    .dataframe tbody tr th {\n",
       "        vertical-align: top;\n",
       "    }\n",
       "\n",
       "    .dataframe thead th {\n",
       "        text-align: right;\n",
       "    }\n",
       "</style>\n",
       "<table border=\"1\" class=\"dataframe\">\n",
       "  <thead>\n",
       "    <tr style=\"text-align: right;\">\n",
       "      <th></th>\n",
       "      <th>col</th>\n",
       "    </tr>\n",
       "  </thead>\n",
       "  <tbody>\n",
       "    <tr>\n",
       "      <th>7</th>\n",
       "      <td>good</td>\n",
       "    </tr>\n",
       "    <tr>\n",
       "      <th>8</th>\n",
       "      <td>bad</td>\n",
       "    </tr>\n",
       "    <tr>\n",
       "      <th>9</th>\n",
       "      <td>car</td>\n",
       "    </tr>\n",
       "  </tbody>\n",
       "</table>\n",
       "</div>"
      ],
      "text/plain": [
       "    col\n",
       "7  good\n",
       "8   bad\n",
       "9   car"
      ]
     },
     "execution_count": 83,
     "metadata": {},
     "output_type": "execute_result"
    }
   ],
   "source": [
    "X_test"
   ]
  },
  {
   "cell_type": "code",
   "execution_count": 84,
   "metadata": {
    "colab": {
     "base_uri": "https://localhost:8080/",
     "height": 269
    },
    "executionInfo": {
     "elapsed": 303,
     "status": "ok",
     "timestamp": 1689020033332,
     "user": {
      "displayName": "Orion Cloud",
      "userId": "13399699001942214669"
     },
     "user_tz": -180
    },
    "id": "ZF9StwEaF-7W",
    "outputId": "2ebd0af3-6519-44fe-d5f2-63752d408056"
   },
   "outputs": [
    {
     "name": "stderr",
     "output_type": "stream",
     "text": [
      "C:\\Users\\habob\\anaconda3\\Lib\\site-packages\\sklearn\\preprocessing\\_encoders.py:975: FutureWarning: `sparse` was renamed to `sparse_output` in version 1.2 and will be removed in 1.4. `sparse_output` is ignored unless you leave `sparse` to its default value.\n",
      "  warnings.warn(\n"
     ]
    },
    {
     "data": {
      "text/plain": [
       "array([[1., 0., 0., 0.],\n",
       "       [0., 0., 0., 1.],\n",
       "       [0., 0., 1., 0.],\n",
       "       [0., 0., 1., 0.],\n",
       "       [1., 0., 0., 0.],\n",
       "       [0., 1., 0., 0.],\n",
       "       [0., 0., 1., 0.]])"
      ]
     },
     "execution_count": 84,
     "metadata": {},
     "output_type": "execute_result"
    }
   ],
   "source": [
    "enc.fit_transform(X_train)\n",
    "# Since the fit process is done on the train set,\n",
    "# the transformation (transformation) in both the train and the test set will only be made according to the unique observations in the train set.\n"
   ]
  },
  {
   "cell_type": "code",
   "execution_count": 85,
   "metadata": {
    "colab": {
     "base_uri": "https://localhost:8080/",
     "height": 143
    },
    "executionInfo": {
     "elapsed": 275,
     "status": "ok",
     "timestamp": 1689020036142,
     "user": {
      "displayName": "Orion Cloud",
      "userId": "13399699001942214669"
     },
     "user_tz": -180
    },
    "id": "dMtJQz2_F-7W",
    "outputId": "3b22aba4-e68d-41a0-c9ed-43a8696093dd"
   },
   "outputs": [
    {
     "data": {
      "text/plain": [
       "array([[0., 0., 1., 0.],\n",
       "       [1., 0., 0., 0.],\n",
       "       [0., 0., 0., 0.]])"
      ]
     },
     "execution_count": 85,
     "metadata": {},
     "output_type": "execute_result"
    }
   ],
   "source": [
    "enc.transform(X_test)\n",
    "# Since the transformation in the test set is made according to the unique observations in the train set,\n",
    "# the unique observations in both the train and the test set are converted to 1, while the non-observations (car) are converted to 0.\n"
   ]
  },
  {
   "cell_type": "markdown",
   "metadata": {
    "id": "Zh0a514xF-7X"
   },
   "source": [
    "## OrdinalEncoder"
   ]
  },
  {
   "cell_type": "markdown",
   "metadata": {
    "id": "-dr0hhXkF-7Y"
   },
   "source": [
    "### Example"
   ]
  },
  {
   "cell_type": "markdown",
   "metadata": {
    "id": "n7ACmG9pF-7Z"
   },
   "source": [
    "### Converting Object Features into Numerical Features Using Make Column Transformer with OrdinalEncoder and OneHotEncoder"
   ]
  },
  {
   "cell_type": "code",
   "execution_count": 86,
   "metadata": {
    "scrolled": true
   },
   "outputs": [
    {
     "data": {
      "text/html": [
       "<div>\n",
       "<style scoped>\n",
       "    .dataframe tbody tr th:only-of-type {\n",
       "        vertical-align: middle;\n",
       "    }\n",
       "\n",
       "    .dataframe tbody tr th {\n",
       "        vertical-align: top;\n",
       "    }\n",
       "\n",
       "    .dataframe thead th {\n",
       "        text-align: right;\n",
       "    }\n",
       "</style>\n",
       "<table border=\"1\" class=\"dataframe\">\n",
       "  <thead>\n",
       "    <tr style=\"text-align: right;\">\n",
       "      <th></th>\n",
       "      <th>make</th>\n",
       "      <th>body_type</th>\n",
       "      <th>warranty</th>\n",
       "      <th>gearbox</th>\n",
       "      <th>fuel_type</th>\n",
       "      <th>drivetrain</th>\n",
       "      <th>full_service_history</th>\n",
       "      <th>upholstery</th>\n",
       "      <th>energy_efficiency_class</th>\n",
       "      <th>entertainment_&amp;_media_Package</th>\n",
       "    </tr>\n",
       "  </thead>\n",
       "  <tbody>\n",
       "    <tr>\n",
       "      <th>count</th>\n",
       "      <td>26711</td>\n",
       "      <td>26711</td>\n",
       "      <td>26711</td>\n",
       "      <td>26711</td>\n",
       "      <td>26711</td>\n",
       "      <td>26711</td>\n",
       "      <td>26711</td>\n",
       "      <td>26711</td>\n",
       "      <td>26711</td>\n",
       "      <td>26711</td>\n",
       "    </tr>\n",
       "    <tr>\n",
       "      <th>unique</th>\n",
       "      <td>13</td>\n",
       "      <td>6</td>\n",
       "      <td>2</td>\n",
       "      <td>2</td>\n",
       "      <td>4</td>\n",
       "      <td>3</td>\n",
       "      <td>2</td>\n",
       "      <td>2</td>\n",
       "      <td>2</td>\n",
       "      <td>2</td>\n",
       "    </tr>\n",
       "    <tr>\n",
       "      <th>top</th>\n",
       "      <td>Volvo</td>\n",
       "      <td>Station wagon</td>\n",
       "      <td>No</td>\n",
       "      <td>Manual</td>\n",
       "      <td>Benzine</td>\n",
       "      <td>Front</td>\n",
       "      <td>No</td>\n",
       "      <td>Cloth</td>\n",
       "      <td>efficient</td>\n",
       "      <td>Standard</td>\n",
       "    </tr>\n",
       "    <tr>\n",
       "      <th>freq</th>\n",
       "      <td>3343</td>\n",
       "      <td>5391</td>\n",
       "      <td>13480</td>\n",
       "      <td>15669</td>\n",
       "      <td>16862</td>\n",
       "      <td>20415</td>\n",
       "      <td>14628</td>\n",
       "      <td>14219</td>\n",
       "      <td>17154</td>\n",
       "      <td>16066</td>\n",
       "    </tr>\n",
       "  </tbody>\n",
       "</table>\n",
       "</div>"
      ],
      "text/plain": [
       "         make      body_type warranty gearbox fuel_type drivetrain  \\\n",
       "count   26711          26711    26711   26711     26711      26711   \n",
       "unique     13              6        2       2         4          3   \n",
       "top     Volvo  Station wagon       No  Manual   Benzine      Front   \n",
       "freq     3343           5391    13480   15669     16862      20415   \n",
       "\n",
       "       full_service_history upholstery energy_efficiency_class  \\\n",
       "count                 26711      26711                   26711   \n",
       "unique                    2          2                       2   \n",
       "top                      No      Cloth               efficient   \n",
       "freq                  14628      14219                   17154   \n",
       "\n",
       "       entertainment_&_media_Package  \n",
       "count                          26711  \n",
       "unique                             2  \n",
       "top                         Standard  \n",
       "freq                           16066  "
      ]
     },
     "execution_count": 86,
     "metadata": {},
     "output_type": "execute_result"
    }
   ],
   "source": [
    "cars.describe(include='O')"
   ]
  },
  {
   "cell_type": "code",
   "execution_count": 87,
   "metadata": {},
   "outputs": [],
   "source": [
    "X = cars.drop('price', axis=1)\n",
    "y = cars.price"
   ]
  },
  {
   "cell_type": "code",
   "execution_count": 88,
   "metadata": {},
   "outputs": [],
   "source": [
    "X_train, X_test, y_train, y_test = train_test_split(X, y, test_size = 0.3, random_state= 42)"
   ]
  },
  {
   "cell_type": "code",
   "execution_count": null,
   "metadata": {},
   "outputs": [],
   "source": []
  },
  {
   "cell_type": "code",
   "execution_count": null,
   "metadata": {},
   "outputs": [],
   "source": []
  },
  {
   "cell_type": "markdown",
   "metadata": {},
   "source": [
    "# OnHotEncoding"
   ]
  },
  {
   "cell_type": "code",
   "execution_count": null,
   "metadata": {},
   "outputs": [],
   "source": []
  },
  {
   "cell_type": "code",
   "execution_count": 101,
   "metadata": {},
   "outputs": [],
   "source": [
    "categorical_columns = ['make', 'body_type', 'warranty', 'gearbox', 'fuel_type', 'drivetrain', 'full_service_history',\n",
    "                       'upholstery','energy_efficiency_class', 'entertainment_&_media_Package']\n",
    "\n",
    "# Create an instance of the OneHotEncoder\n",
    "encoder = OneHotEncoder(sparse=False, handle_unknown='ignore', drop='first')\n"
   ]
  },
  {
   "cell_type": "code",
   "execution_count": 102,
   "metadata": {},
   "outputs": [],
   "source": [
    "X_train_en = pd.concat([X_train.drop(categorical_columns, axis=1), encoded_df], axis=0)"
   ]
  },
  {
   "cell_type": "code",
   "execution_count": 103,
   "metadata": {},
   "outputs": [
    {
     "data": {
      "text/plain": [
       "Index(['make', 'price', 'body_type', 'warranty', 'mileage', 'gearbox',\n",
       "       'fuel_type', 'engine_size', 'gears', 'drivetrain', 'empty_weight',\n",
       "       'full_service_history', 'upholstery', 'energy_efficiency_class', 'age',\n",
       "       'power_kW', 'cons_avg', 'entertainment_&_media_Package', 'extras_nu'],\n",
       "      dtype='object')"
      ]
     },
     "execution_count": 103,
     "metadata": {},
     "output_type": "execute_result"
    }
   ],
   "source": [
    "cars.columns"
   ]
  },
  {
   "cell_type": "code",
   "execution_count": 104,
   "metadata": {},
   "outputs": [
    {
     "data": {
      "text/plain": [
       "Index(['price', 'mileage', 'engine_size', 'gears', 'empty_weight', 'age',\n",
       "       'power_kW', 'cons_avg', 'extras_nu'],\n",
       "      dtype='object')"
      ]
     },
     "execution_count": 104,
     "metadata": {},
     "output_type": "execute_result"
    }
   ],
   "source": [
    "cars.describe().columns"
   ]
  },
  {
   "cell_type": "code",
   "execution_count": 105,
   "metadata": {},
   "outputs": [
    {
     "name": "stdout",
     "output_type": "stream",
     "text": [
      "['price', 'mileage', 'engine_size', 'gears', 'empty_weight', 'age', 'power_kW', 'cons_avg', 'extras_nu']\n"
     ]
    }
   ],
   "source": [
    "numerical_columns = cars.select_dtypes(include=['float64', 'int64']).columns.tolist()\n",
    "\n",
    "# Print the numerical column names\n",
    "print(numerical_columns)"
   ]
  },
  {
   "cell_type": "code",
   "execution_count": 122,
   "metadata": {},
   "outputs": [],
   "source": [
    "numerical_columns = ['mileage', 'engine_size', 'gears', 'empty_weight', 'age',\n",
    "       'power_kW', 'cons_avg', 'extras_nu']"
   ]
  },
  {
   "cell_type": "code",
   "execution_count": 123,
   "metadata": {
    "id": "Qyu6RLqdF-7a"
   },
   "outputs": [],
   "source": [
    "from sklearn.preprocessing import StandardScaler, MinMaxScaler, RobustScaler"
   ]
  },
  {
   "cell_type": "code",
   "execution_count": 124,
   "metadata": {},
   "outputs": [],
   "source": [
    "# scaler = StandardScaler()"
   ]
  },
  {
   "cell_type": "code",
   "execution_count": 125,
   "metadata": {},
   "outputs": [],
   "source": [
    "from sklearn.compose import make_column_transformer\n",
    "columns_trans = make_column_transformer(\n",
    "     (StandardScaler(), numerical_columns),\n",
    "    (OneHotEncoder(), categorical_columns), remainder = 'passthrough')"
   ]
  },
  {
   "cell_type": "code",
   "execution_count": 126,
   "metadata": {},
   "outputs": [
    {
     "data": {
      "text/html": [
       "<style>#sk-container-id-3 {color: black;}#sk-container-id-3 pre{padding: 0;}#sk-container-id-3 div.sk-toggleable {background-color: white;}#sk-container-id-3 label.sk-toggleable__label {cursor: pointer;display: block;width: 100%;margin-bottom: 0;padding: 0.3em;box-sizing: border-box;text-align: center;}#sk-container-id-3 label.sk-toggleable__label-arrow:before {content: \"▸\";float: left;margin-right: 0.25em;color: #696969;}#sk-container-id-3 label.sk-toggleable__label-arrow:hover:before {color: black;}#sk-container-id-3 div.sk-estimator:hover label.sk-toggleable__label-arrow:before {color: black;}#sk-container-id-3 div.sk-toggleable__content {max-height: 0;max-width: 0;overflow: hidden;text-align: left;background-color: #f0f8ff;}#sk-container-id-3 div.sk-toggleable__content pre {margin: 0.2em;color: black;border-radius: 0.25em;background-color: #f0f8ff;}#sk-container-id-3 input.sk-toggleable__control:checked~div.sk-toggleable__content {max-height: 200px;max-width: 100%;overflow: auto;}#sk-container-id-3 input.sk-toggleable__control:checked~label.sk-toggleable__label-arrow:before {content: \"▾\";}#sk-container-id-3 div.sk-estimator input.sk-toggleable__control:checked~label.sk-toggleable__label {background-color: #d4ebff;}#sk-container-id-3 div.sk-label input.sk-toggleable__control:checked~label.sk-toggleable__label {background-color: #d4ebff;}#sk-container-id-3 input.sk-hidden--visually {border: 0;clip: rect(1px 1px 1px 1px);clip: rect(1px, 1px, 1px, 1px);height: 1px;margin: -1px;overflow: hidden;padding: 0;position: absolute;width: 1px;}#sk-container-id-3 div.sk-estimator {font-family: monospace;background-color: #f0f8ff;border: 1px dotted black;border-radius: 0.25em;box-sizing: border-box;margin-bottom: 0.5em;}#sk-container-id-3 div.sk-estimator:hover {background-color: #d4ebff;}#sk-container-id-3 div.sk-parallel-item::after {content: \"\";width: 100%;border-bottom: 1px solid gray;flex-grow: 1;}#sk-container-id-3 div.sk-label:hover label.sk-toggleable__label {background-color: #d4ebff;}#sk-container-id-3 div.sk-serial::before {content: \"\";position: absolute;border-left: 1px solid gray;box-sizing: border-box;top: 0;bottom: 0;left: 50%;z-index: 0;}#sk-container-id-3 div.sk-serial {display: flex;flex-direction: column;align-items: center;background-color: white;padding-right: 0.2em;padding-left: 0.2em;position: relative;}#sk-container-id-3 div.sk-item {position: relative;z-index: 1;}#sk-container-id-3 div.sk-parallel {display: flex;align-items: stretch;justify-content: center;background-color: white;position: relative;}#sk-container-id-3 div.sk-item::before, #sk-container-id-3 div.sk-parallel-item::before {content: \"\";position: absolute;border-left: 1px solid gray;box-sizing: border-box;top: 0;bottom: 0;left: 50%;z-index: -1;}#sk-container-id-3 div.sk-parallel-item {display: flex;flex-direction: column;z-index: 1;position: relative;background-color: white;}#sk-container-id-3 div.sk-parallel-item:first-child::after {align-self: flex-end;width: 50%;}#sk-container-id-3 div.sk-parallel-item:last-child::after {align-self: flex-start;width: 50%;}#sk-container-id-3 div.sk-parallel-item:only-child::after {width: 0;}#sk-container-id-3 div.sk-dashed-wrapped {border: 1px dashed gray;margin: 0 0.4em 0.5em 0.4em;box-sizing: border-box;padding-bottom: 0.4em;background-color: white;}#sk-container-id-3 div.sk-label label {font-family: monospace;font-weight: bold;display: inline-block;line-height: 1.2em;}#sk-container-id-3 div.sk-label-container {text-align: center;}#sk-container-id-3 div.sk-container {/* jupyter's `normalize.less` sets `[hidden] { display: none; }` but bootstrap.min.css set `[hidden] { display: none !important; }` so we also need the `!important` here to be able to override the default hidden behavior on the sphinx rendered scikit-learn.org. See: https://github.com/scikit-learn/scikit-learn/issues/21755 */display: inline-block !important;position: relative;}#sk-container-id-3 div.sk-text-repr-fallback {display: none;}</style><div id=\"sk-container-id-3\" class=\"sk-top-container\"><div class=\"sk-text-repr-fallback\"><pre>ColumnTransformer(remainder=&#x27;passthrough&#x27;,\n",
       "                  transformers=[(&#x27;standardscaler&#x27;, StandardScaler(),\n",
       "                                 [&#x27;mileage&#x27;, &#x27;engine_size&#x27;, &#x27;gears&#x27;,\n",
       "                                  &#x27;empty_weight&#x27;, &#x27;age&#x27;, &#x27;power_kW&#x27;, &#x27;cons_avg&#x27;,\n",
       "                                  &#x27;extras_nu&#x27;]),\n",
       "                                (&#x27;onehotencoder&#x27;, OneHotEncoder(),\n",
       "                                 [&#x27;make&#x27;, &#x27;body_type&#x27;, &#x27;warranty&#x27;, &#x27;gearbox&#x27;,\n",
       "                                  &#x27;fuel_type&#x27;, &#x27;drivetrain&#x27;,\n",
       "                                  &#x27;full_service_history&#x27;, &#x27;upholstery&#x27;,\n",
       "                                  &#x27;energy_efficiency_class&#x27;,\n",
       "                                  &#x27;entertainment_&amp;_media_Package&#x27;])])</pre><b>In a Jupyter environment, please rerun this cell to show the HTML representation or trust the notebook. <br />On GitHub, the HTML representation is unable to render, please try loading this page with nbviewer.org.</b></div><div class=\"sk-container\" hidden><div class=\"sk-item sk-dashed-wrapped\"><div class=\"sk-label-container\"><div class=\"sk-label sk-toggleable\"><input class=\"sk-toggleable__control sk-hidden--visually\" id=\"sk-estimator-id-15\" type=\"checkbox\" ><label for=\"sk-estimator-id-15\" class=\"sk-toggleable__label sk-toggleable__label-arrow\">ColumnTransformer</label><div class=\"sk-toggleable__content\"><pre>ColumnTransformer(remainder=&#x27;passthrough&#x27;,\n",
       "                  transformers=[(&#x27;standardscaler&#x27;, StandardScaler(),\n",
       "                                 [&#x27;mileage&#x27;, &#x27;engine_size&#x27;, &#x27;gears&#x27;,\n",
       "                                  &#x27;empty_weight&#x27;, &#x27;age&#x27;, &#x27;power_kW&#x27;, &#x27;cons_avg&#x27;,\n",
       "                                  &#x27;extras_nu&#x27;]),\n",
       "                                (&#x27;onehotencoder&#x27;, OneHotEncoder(),\n",
       "                                 [&#x27;make&#x27;, &#x27;body_type&#x27;, &#x27;warranty&#x27;, &#x27;gearbox&#x27;,\n",
       "                                  &#x27;fuel_type&#x27;, &#x27;drivetrain&#x27;,\n",
       "                                  &#x27;full_service_history&#x27;, &#x27;upholstery&#x27;,\n",
       "                                  &#x27;energy_efficiency_class&#x27;,\n",
       "                                  &#x27;entertainment_&amp;_media_Package&#x27;])])</pre></div></div></div><div class=\"sk-parallel\"><div class=\"sk-parallel-item\"><div class=\"sk-item\"><div class=\"sk-label-container\"><div class=\"sk-label sk-toggleable\"><input class=\"sk-toggleable__control sk-hidden--visually\" id=\"sk-estimator-id-16\" type=\"checkbox\" ><label for=\"sk-estimator-id-16\" class=\"sk-toggleable__label sk-toggleable__label-arrow\">standardscaler</label><div class=\"sk-toggleable__content\"><pre>[&#x27;mileage&#x27;, &#x27;engine_size&#x27;, &#x27;gears&#x27;, &#x27;empty_weight&#x27;, &#x27;age&#x27;, &#x27;power_kW&#x27;, &#x27;cons_avg&#x27;, &#x27;extras_nu&#x27;]</pre></div></div></div><div class=\"sk-serial\"><div class=\"sk-item\"><div class=\"sk-estimator sk-toggleable\"><input class=\"sk-toggleable__control sk-hidden--visually\" id=\"sk-estimator-id-17\" type=\"checkbox\" ><label for=\"sk-estimator-id-17\" class=\"sk-toggleable__label sk-toggleable__label-arrow\">StandardScaler</label><div class=\"sk-toggleable__content\"><pre>StandardScaler()</pre></div></div></div></div></div></div><div class=\"sk-parallel-item\"><div class=\"sk-item\"><div class=\"sk-label-container\"><div class=\"sk-label sk-toggleable\"><input class=\"sk-toggleable__control sk-hidden--visually\" id=\"sk-estimator-id-18\" type=\"checkbox\" ><label for=\"sk-estimator-id-18\" class=\"sk-toggleable__label sk-toggleable__label-arrow\">onehotencoder</label><div class=\"sk-toggleable__content\"><pre>[&#x27;make&#x27;, &#x27;body_type&#x27;, &#x27;warranty&#x27;, &#x27;gearbox&#x27;, &#x27;fuel_type&#x27;, &#x27;drivetrain&#x27;, &#x27;full_service_history&#x27;, &#x27;upholstery&#x27;, &#x27;energy_efficiency_class&#x27;, &#x27;entertainment_&amp;_media_Package&#x27;]</pre></div></div></div><div class=\"sk-serial\"><div class=\"sk-item\"><div class=\"sk-estimator sk-toggleable\"><input class=\"sk-toggleable__control sk-hidden--visually\" id=\"sk-estimator-id-19\" type=\"checkbox\" ><label for=\"sk-estimator-id-19\" class=\"sk-toggleable__label sk-toggleable__label-arrow\">OneHotEncoder</label><div class=\"sk-toggleable__content\"><pre>OneHotEncoder()</pre></div></div></div></div></div></div><div class=\"sk-parallel-item\"><div class=\"sk-item\"><div class=\"sk-label-container\"><div class=\"sk-label sk-toggleable\"><input class=\"sk-toggleable__control sk-hidden--visually\" id=\"sk-estimator-id-20\" type=\"checkbox\" ><label for=\"sk-estimator-id-20\" class=\"sk-toggleable__label sk-toggleable__label-arrow\">remainder</label><div class=\"sk-toggleable__content\"><pre></pre></div></div></div><div class=\"sk-serial\"><div class=\"sk-item\"><div class=\"sk-estimator sk-toggleable\"><input class=\"sk-toggleable__control sk-hidden--visually\" id=\"sk-estimator-id-21\" type=\"checkbox\" ><label for=\"sk-estimator-id-21\" class=\"sk-toggleable__label sk-toggleable__label-arrow\">passthrough</label><div class=\"sk-toggleable__content\"><pre>passthrough</pre></div></div></div></div></div></div></div></div></div></div>"
      ],
      "text/plain": [
       "ColumnTransformer(remainder='passthrough',\n",
       "                  transformers=[('standardscaler', StandardScaler(),\n",
       "                                 ['mileage', 'engine_size', 'gears',\n",
       "                                  'empty_weight', 'age', 'power_kW', 'cons_avg',\n",
       "                                  'extras_nu']),\n",
       "                                ('onehotencoder', OneHotEncoder(),\n",
       "                                 ['make', 'body_type', 'warranty', 'gearbox',\n",
       "                                  'fuel_type', 'drivetrain',\n",
       "                                  'full_service_history', 'upholstery',\n",
       "                                  'energy_efficiency_class',\n",
       "                                  'entertainment_&_media_Package'])])"
      ]
     },
     "execution_count": 126,
     "metadata": {},
     "output_type": "execute_result"
    }
   ],
   "source": [
    "columns_trans"
   ]
  },
  {
   "cell_type": "code",
   "execution_count": 129,
   "metadata": {},
   "outputs": [],
   "source": [
    "X_train_trans = columns_trans.fit_transform(X_train)"
   ]
  },
  {
   "cell_type": "code",
   "execution_count": 130,
   "metadata": {},
   "outputs": [],
   "source": [
    "X_test_trans = columns_trans.transform(X_test)"
   ]
  },
  {
   "cell_type": "markdown",
   "metadata": {
    "id": "An_5ITcAmqZO"
   },
   "source": [
    "## 3. Implement Linear Regression"
   ]
  },
  {
   "cell_type": "markdown",
   "metadata": {
    "id": "0c0y-w8vmqZO"
   },
   "source": [
    " - Import the modul\n",
    " - Fit the model\n",
    " - Predict the test set\n",
    " - Determine feature coefficiant\n",
    " - Evaluate model performance (use performance metrics for regression and cross_val_score)\n",
    " - Compare different evaluation metrics\n",
    "\n",
    "*Note: You can use the [dir()](https://www.geeksforgeeks.org/python-dir-function/) function to see the methods you need.*"
   ]
  },
  {
   "cell_type": "code",
   "execution_count": null,
   "metadata": {
    "id": "lq6UKn_HmqZO"
   },
   "outputs": [],
   "source": [
    "# Pre-defined functions\n",
    "\n",
    "def train_val(model, X_train, y_train, X_test, y_test):\n",
    "    \"\"\"This function will help you get regression metrics on both train\n",
    "    and test set provided.\n",
    "\n",
    "    Args:\n",
    "        model : model that is used for prediction\n",
    "        X_train : Train features\n",
    "        y_train : Train target\n",
    "        X_test  : Test features\n",
    "        y_test  : Test target\n",
    "\n",
    "    Returns:\n",
    "        Dataframe : Returns scores dataframe\n",
    "    \"\"\"\n",
    "\n",
    "    y_pred = model.predict(X_test)\n",
    "    y_train_pred = model.predict(X_train)\n",
    "\n",
    "    scores = {\"train\": {\"R2\" : r2_score(y_train, y_train_pred),\n",
    "    \"mae\" : mean_absolute_error(y_train, y_train_pred),\n",
    "    \"mse\" : mean_squared_error(y_train, y_train_pred),\n",
    "    \"rmse\" : np.sqrt(mean_squared_error(y_train, y_train_pred))},\n",
    "\n",
    "    \"test\": {\"R2\" : r2_score(y_test, y_pred),\n",
    "    \"mae\" : mean_absolute_error(y_test, y_pred),\n",
    "    \"mse\" : mean_squared_error(y_test, y_pred),\n",
    "    \"rmse\" : np.sqrt(mean_squared_error(y_test, y_pred))}}\n",
    "\n",
    "    return pd.DataFrame(scores)\n",
    "\n",
    "def adj_r2(y_test, y_pred, X):\n",
    "    \"\"\"This function gives adjusted R^2\n",
    "\n",
    "    Args:\n",
    "        y_test : Actual target\n",
    "        y_pred : Predcition\n",
    "        X : Features\n",
    "\n",
    "    Returns:\n",
    "        adj_r2: Adjusted R^2\n",
    "    \"\"\"\n",
    "    r2 = r2_score(y_test, y_pred)\n",
    "    n = X.shape[0]   # number of observations\n",
    "    p = X.shape[1]   # number of independent variables\n",
    "    adj_r2 = 1 - (1-r2)*(n-1)/(n-p-1)\n",
    "    return adj_r2\n"
   ]
  },
  {
   "cell_type": "code",
   "execution_count": null,
   "metadata": {
    "id": "IrSzfrY2F-7a"
   },
   "outputs": [],
   "source": []
  },
  {
   "cell_type": "markdown",
   "metadata": {
    "id": "InWMuiIHF-7a"
   },
   "source": [
    "## Cross Validate"
   ]
  },
  {
   "cell_type": "code",
   "execution_count": null,
   "metadata": {
    "id": "j2mrIuSLF-7b"
   },
   "outputs": [],
   "source": []
  },
  {
   "cell_type": "markdown",
   "metadata": {
    "id": "RE-H0i8aF-7b"
   },
   "source": [
    "## Prediction Error"
   ]
  },
  {
   "cell_type": "code",
   "execution_count": null,
   "metadata": {
    "id": "rAr7LmW1F-7b"
   },
   "outputs": [],
   "source": []
  },
  {
   "cell_type": "markdown",
   "metadata": {
    "id": "FFgf8MbJF-7b"
   },
   "source": [
    "## Residual Plot"
   ]
  },
  {
   "cell_type": "code",
   "execution_count": null,
   "metadata": {
    "id": "NP90yxtnF-7b"
   },
   "outputs": [],
   "source": []
  },
  {
   "cell_type": "markdown",
   "metadata": {
    "id": "URTPHtYcF-7b"
   },
   "source": [
    "## Dropping outliers that worsen my predictions from the dataset\n",
    "\n",
    "- After dropping re-fit and evaluate your model"
   ]
  },
  {
   "cell_type": "code",
   "execution_count": null,
   "metadata": {
    "id": "BGNzgzZrF-7b"
   },
   "outputs": [],
   "source": []
  },
  {
   "cell_type": "markdown",
   "metadata": {
    "id": "W-n0rbT9F-7b"
   },
   "source": [
    "## Pipeline\n",
    "- Read the documentation and apply pipeline\n",
    "- link : https://scikit-learn.org/stable/modules/compose.html"
   ]
  },
  {
   "cell_type": "code",
   "execution_count": null,
   "metadata": {
    "id": "okJfx60EF-7c"
   },
   "outputs": [],
   "source": []
  },
  {
   "cell_type": "markdown",
   "metadata": {
    "id": "n2ROwYsymqZO"
   },
   "source": [
    "## 4. Implement Ridge Regression"
   ]
  },
  {
   "cell_type": "markdown",
   "metadata": {
    "id": "3RvdF8CRmqZO"
   },
   "source": [
    "- Import the modul\n",
    "- Do not forget to scale the data or use Normalize parameter as True  \n",
    "- ***Fit the model (use pipeline)***\n",
    "- Predict the test set\n",
    "- Evaluate model performance (use performance metrics for regression)\n",
    "- Tune alpha hiperparameter by using [GridSearchCV](https://scikit-learn.org/stable/modules/generated/sklearn.model_selection.GridSearchCV.html) and determine the optimal alpha value.\n",
    "- Fit the model and predict again with the new alpha value."
   ]
  },
  {
   "cell_type": "markdown",
   "metadata": {
    "id": "QGAQoQ06F-7c"
   },
   "source": [
    "## Ridge"
   ]
  },
  {
   "cell_type": "code",
   "execution_count": null,
   "metadata": {
    "id": "-WMygy61F-7c"
   },
   "outputs": [],
   "source": []
  },
  {
   "cell_type": "markdown",
   "metadata": {
    "id": "wZBtuBrEF-7d"
   },
   "source": [
    "## Cross Validation"
   ]
  },
  {
   "cell_type": "code",
   "execution_count": null,
   "metadata": {
    "id": "CzapEg-2F-7d"
   },
   "outputs": [],
   "source": []
  },
  {
   "cell_type": "markdown",
   "metadata": {
    "id": "Tr-oyh1OF-7d"
   },
   "source": [
    "## Finding best alpha for Ridge"
   ]
  },
  {
   "cell_type": "code",
   "execution_count": null,
   "metadata": {
    "id": "XPsQ7-1TF-7d"
   },
   "outputs": [],
   "source": []
  },
  {
   "cell_type": "markdown",
   "metadata": {
    "id": "oDfXOSnpmqZO"
   },
   "source": [
    "## 5. Implement Lasso Regression"
   ]
  },
  {
   "cell_type": "markdown",
   "metadata": {
    "id": "icqyxzBymqZO"
   },
   "source": [
    "- Import the modul\n",
    "- Do not forget to scale the data or use Normalize parameter as True\n",
    "- ***Fit the model (use pipeline)***\n",
    "- Predict the test set\n",
    "- Evaluate model performance (use performance metrics for regression)\n",
    "- Tune alpha hiperparameter by using [GridSearchCV](https://scikit-learn.org/stable/modules/generated/sklearn.model_selection.GridSearchCV.html) and determine the optimal alpha value.\n",
    "- Fit the model and predict again with the new alpha value.\n",
    "- Compare different evaluation metrics\n",
    "\n",
    "*Note: To understand the importance of the alpha hyperparameter, you can observe the effects of different alpha values on feature coefficants.*"
   ]
  },
  {
   "cell_type": "code",
   "execution_count": null,
   "metadata": {
    "id": "owng4dw1F-7d"
   },
   "outputs": [],
   "source": []
  },
  {
   "cell_type": "markdown",
   "metadata": {
    "id": "BSXCKR06F-7d"
   },
   "source": [
    "## Cross Validation"
   ]
  },
  {
   "cell_type": "code",
   "execution_count": null,
   "metadata": {
    "id": "SaM1GGhzF-7e"
   },
   "outputs": [],
   "source": []
  },
  {
   "cell_type": "markdown",
   "metadata": {
    "id": "mAouR2ywF-7e"
   },
   "source": [
    "## Finding best alpha for Lasso"
   ]
  },
  {
   "cell_type": "code",
   "execution_count": null,
   "metadata": {
    "id": "TeDHVg38F-7e"
   },
   "outputs": [],
   "source": []
  },
  {
   "cell_type": "markdown",
   "metadata": {
    "id": "qpoOypMbmqZO"
   },
   "source": [
    "## 6. Implement Elastic-Net"
   ]
  },
  {
   "cell_type": "markdown",
   "metadata": {
    "id": "El7SNJUemqZO"
   },
   "source": [
    "- Import the modul\n",
    "- Do not forget to scale the data or use Normalize parameter as True\n",
    "- ***Fit the model (use pipeline)***\n",
    "- Predict the test set\n",
    "- Evaluate model performance (use performance metrics for regression)\n",
    "- Tune alpha hiperparameter by using [GridSearchCV](https://scikit-learn.org/stable/modules/generated/sklearn.model_selection.GridSearchCV.html) and determine the optimal alpha value.\n",
    "- Fit the model and predict again with the new alpha value.\n",
    "- Compare different evaluation metrics"
   ]
  },
  {
   "cell_type": "code",
   "execution_count": null,
   "metadata": {
    "id": "BGM084LtF-7e"
   },
   "outputs": [],
   "source": []
  },
  {
   "cell_type": "markdown",
   "metadata": {
    "id": "aWT3lTo8F-7e"
   },
   "source": [
    "## Cross Validation"
   ]
  },
  {
   "cell_type": "code",
   "execution_count": null,
   "metadata": {
    "id": "NSjikFHMF-7f"
   },
   "outputs": [],
   "source": []
  },
  {
   "cell_type": "markdown",
   "metadata": {
    "id": "8GItG3rNF-7f"
   },
   "source": [
    "## Finding best alpha and l1_ratio for ElasticNet"
   ]
  },
  {
   "cell_type": "code",
   "execution_count": null,
   "metadata": {
    "id": "K3YQsaKrF-7f"
   },
   "outputs": [],
   "source": []
  },
  {
   "cell_type": "markdown",
   "metadata": {
    "id": "ioM54h28F-7g"
   },
   "source": [
    "## Feature İmportance\n",
    "- Select the first 6 important features with the use of LASSO and re-fit the model"
   ]
  },
  {
   "cell_type": "code",
   "execution_count": null,
   "metadata": {
    "id": "EMlZZz5IF-7g"
   },
   "outputs": [],
   "source": []
  },
  {
   "cell_type": "markdown",
   "metadata": {
    "id": "eZP06lMdF-7g"
   },
   "source": [
    "## Cross Validate"
   ]
  },
  {
   "cell_type": "code",
   "execution_count": null,
   "metadata": {
    "id": "li4LrvP1F-7g"
   },
   "outputs": [],
   "source": []
  },
  {
   "cell_type": "markdown",
   "metadata": {
    "id": "sYyuZQtWmqZO"
   },
   "source": [
    "## 7. Visually Compare Models Performance In a Graph"
   ]
  },
  {
   "cell_type": "code",
   "execution_count": null,
   "metadata": {
    "id": "fiJWKHHFF-7h"
   },
   "outputs": [],
   "source": []
  },
  {
   "cell_type": "markdown",
   "metadata": {
    "id": "bjHSTwb1F-7h"
   },
   "source": [
    "## Prediction a new observation\n",
    "- Create an observation and predict its price"
   ]
  },
  {
   "cell_type": "code",
   "execution_count": null,
   "metadata": {
    "id": "IoXIveJBF-7h"
   },
   "outputs": [],
   "source": []
  },
  {
   "cell_type": "markdown",
   "metadata": {
    "id": "gYoSnSbDF-7h"
   },
   "source": [
    "___\n",
    "\n",
    "<p style=\"text-align: center;\"><img src=\"https://docs.google.com/uc?id=1lY0Uj5R04yMY3-ZppPWxqCr5pvBLYPnV\" class=\"img-fluid\" alt=\"CLRSWY\"></p>\n",
    "\n",
    "___"
   ]
  }
 ],
 "metadata": {
  "colab": {
   "provenance": []
  },
  "kernelspec": {
   "display_name": "Python 3 (ipykernel)",
   "language": "python",
   "name": "python3"
  },
  "language_info": {
   "codemirror_mode": {
    "name": "ipython",
    "version": 3
   },
   "file_extension": ".py",
   "mimetype": "text/x-python",
   "name": "python",
   "nbconvert_exporter": "python",
   "pygments_lexer": "ipython3",
   "version": "3.11.3"
  },
  "vscode": {
   "interpreter": {
    "hash": "9a4c4f48a7c69f416f6cf2655c5700f68b3ff724cce5aaacbc7bad0fd37e2def"
   }
  }
 },
 "nbformat": 4,
 "nbformat_minor": 1
}
